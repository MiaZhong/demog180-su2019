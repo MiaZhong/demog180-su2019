{
 "cells": [
  {
   "cell_type": "code",
   "execution_count": 29,
   "metadata": {
    "collapsed": false
   },
   "outputs": [
    {
     "name": "stdout",
     "output_type": "stream",
     "text": [
      "Requirement already satisfied: jassign in /anaconda/lib/python3.5/site-packages (0.0.6)\n",
      "\u001b[33mYou are using pip version 18.0, however version 19.0.3 is available.\n",
      "You should consider upgrading via the 'pip install --upgrade pip' command.\u001b[0m\n"
     ]
    }
   ],
   "source": [
    "!pip install jassign"
   ]
  },
  {
   "cell_type": "code",
   "execution_count": 30,
   "metadata": {
    "collapsed": true
   },
   "outputs": [],
   "source": [
    "from IPython.core.display import HTML\n",
    "from datascience import *\n",
    "\n",
    "import jassign\n",
    "import matplotlib\n",
    "matplotlib.use('Agg')\n",
    "%matplotlib inline\n",
    "import matplotlib.pyplot as plt\n",
    "import numpy as np\n",
    "import os\n",
    "plt.style.use('fivethirtyeight')\n",
    "\n",
    "import networkx as nx\n",
    "from networkx.algorithms import bipartite"
   ]
  },
  {
   "cell_type": "markdown",
   "metadata": {},
   "source": [
    "\n",
    "# Homework 04"
   ]
  },
  {
   "cell_type": "markdown",
   "metadata": {},
   "source": [
    "## Small worlds"
   ]
  },
  {
   "cell_type": "markdown",
   "metadata": {},
   "source": [
    "In this homework assignment, we're going to explore the concept of *small worlds*, which we discussed in class earlier this semester.  Small worlds have long been studied by social networks researchers, and they have also been discussed in popular culture. As a reminder, the rough idea is that social networks can typically be expected to have two characteristics:\n",
    "\n",
    "* a high level of clustering\n",
    "* a short average path length\n",
    "\n",
    "A high level of clustering is consistent with the idea of triadic closure. And a short average path length is supposed to capture situations we often seem to encounter in our day to day lives: e.g., two strangers find that they have an unexpected acquaintance in common and exclaim \"it's a small world!\" (see the Milgram article below).\n",
    "\n",
    "We're going to try to assess how well these two small world predictions hold up empirically. We're going to focus on the Add Health networks. We should bear in mind that the small world theory is really about very large networks, so we will be evaluating it in an unusual situation: networks of moderate size taken from children who all live in the same community.\n",
    "\n",
    "In case you want to read some of the original small world research papers, you can check out some of the papers we talked about in lecture. Here is an article describing an early empirical study by Milgram:\n",
    "\n",
    "* [Milgram 1967](http://measure.igpp.ucla.edu/GK12-SEE-LA/Lesson_Files_09/Tina_Wey/TW_social_networks_Milgram_1967_small_world_problem.pdf)\n",
    "\n",
    "And here are a couple of more recent studies in which researchers analyzed mathematical models that can produce networks with small-world properties:\n",
    "\n",
    "* [Watts & Strogatz 1998](http://www.nature.com/nature/journal/v393/n6684/abs/393440a0.html)\n",
    "* [Watts 1999](http://www.jstor.org/stable/10.1086/210318?seq=1#page_scan_tab_contents)"
   ]
  },
  {
   "cell_type": "markdown",
   "metadata": {},
   "source": [
    "This homework is a combination of the practices we did in the first half of the semester. Note that as you work on this homework assignment, **it is helpful to review the previous labs and homeworks for the functions we used for calculation, the code we used to store results in arrays and tables, and the protocols for statistical testing.**"
   ]
  },
  {
   "cell_type": "markdown",
   "metadata": {},
   "source": [
    "First, we'll start by looking at this sample network: "
   ]
  },
  {
   "cell_type": "code",
   "execution_count": 31,
   "metadata": {
    "collapsed": false
   },
   "outputs": [
    {
     "name": "stderr",
     "output_type": "stream",
     "text": [
      "//anaconda/lib/python3.5/site-packages/networkx/drawing/nx_pylab.py:611: MatplotlibDeprecationWarning: isinstance(..., numbers.Number)\n",
      "  if cb.is_numlike(alpha):\n"
     ]
    },
    {
     "data": {
      "image/png": "[encoded data removed]",
      "text/plain": [
       "<Figure size 432x288 with 1 Axes>"
      ]
     },
     "metadata": {},
     "output_type": "display_data"
    }
   ],
   "source": [
    "test_net = nx.Graph([(1,2), (1,3), (2,3), (4,5), (4,6), (4,3), (5,6), (3,5), (2,6), (7,8), (8,9)])\n",
    "nx.draw_circular(test_net, with_labels=True)"
   ]
  },
  {
   "cell_type": "markdown",
   "metadata": {},
   "source": [
    "\n",
    "**Question 1** Copy and paste the table below in a new cell and fill it with the shortest distance between each pair of vertices. Enter INF if the nodes are disconnected  \n",
    "  \n",
    "\n",
    "\n",
    "| &nbsp;  | node 1 | node 2 | node 3 | node 4 | node 5 | node 6 | node 7 | node 8 | node 9 |\n",
    "|  ------ | -----  | ------ | ------ | ------ | ------ | ------ | ------ | ------ | ------ |\n",
    "|  node 1 |   -    |  (?)   |   (?)  |    (?) |    (?) |    (?) |    (?) |    (?) |    (?) |\n",
    "|  node 2 |   -    |  -     |   (?)  |    (?) |    (?) |    (?) |    (?) |    (?) |    (?) |\n",
    "|  node 3 |   -    |  -     |   -    |    (?) |    (?) |    (?) |    (?) |    (?) |    (?) |\n",
    "|  node 4 |   -    |  -     |   -    |   -    |    (?) |    (?) |    (?) |    (?) |    (?) |\n",
    "|  node 5 |   -    |  -     |   -    |   -    |   -    |    (?) |    (?) |    (?) |    (?) |\n",
    "|  node 6 |   -    |  -     |   -    |   -    |   -    |   -    |    (?) |    (?) |    (?) |\n",
    "|  node 7 |   -    |  -     |   -    |   -    |   -    |   -    |   -    |    (?) |    (?) |\n",
    "|  node 8 |   -    |  -     |   -    |   -    |   -    |   -    |   -    |   -    |    (?) |\n",
    "|  node 9 |   -    |  -     |   -    |   -    |   -    |   -    |   -    |   -    |   -    |  \n",
    "  \n",
    "  \n",
    "```\n",
    "BEGIN QUESTION\n",
    "name: q1\n",
    "points: 5\n",
    "manual: True\n",
    "```"
   ]
  },
  {
   "cell_type": "markdown",
   "metadata": {},
   "source": [
    "**SOLUTION:**  \n",
    "\n",
    "|   &nbsp;    |  node 1 | node 2 |  node 3 | node 4 | node 5 | node 6 | node 7 | node 8 | node 9 |\n",
    "|   :----:    |  :---:  |  :---: |  :---:  |  :---: |  :---: |  :---: |  :---: |  :---: |  :---: |\n",
    "|   node 1    |    -    |   1    |    1    |    2   |    2   |    2   |    INF |    INF |    INF |\n",
    "|   node 2    |    -    |    -   |    1    |    2   |    2   |    1   |    INF |    INF |    INF |\n",
    "|   node 3    |    -    |    -   |    -    |    1   |    1   |    2   |    INF |    INF |    INF |\n",
    "|   node 4    |    -    |    -   |    -    |   -    |    1   |    1   |    INF |    INF |    INF |\n",
    "|   node 5    |    -    |    -   |    -    |   -    |   -    |    1   |    INF |    INF |    INF |\n",
    "|   node 6    |    -    |    -   |    -    |   -    |   -    |   -    |    INF |    INF |    INF |\n",
    "|   node 7    |    -    |    -   |    -    |   -    |   -    |   -    |   -    |    1   |     2  |\n",
    "|   node 8    |    -    |    -   |    -    |   -    |   -    |   -    |   -    |   -    |    1   |\n",
    "|   node 9    |    -    |    -   |    -    |   -    |   -    |   -    |   -    |   -    |   -    |\n"
   ]
  },
  {
   "cell_type": "markdown",
   "metadata": {},
   "source": [
    "**Question 2** Now manually calculate the average shortest path length **for each** of the connected components in the network.\n",
    "  \n",
    "```\n",
    "BEGIN QUESTION\n",
    "name: q2\n",
    "points: 2\n",
    "manual: True\n",
    "```"
   ]
  },
  {
   "cell_type": "markdown",
   "metadata": {},
   "source": [
    "**SOLUTION:** There are two connected components (CC) in the network\n",
    "1) CC with nodes 1,2,3,4,5,6\n",
    "Average shortest path length = (1+1+2+2+2+1+2+2+1+1+1+2+1+1+1)/15=1.4\n",
    "2) CC with nodes 7,8,9\n",
    "Average shortest path length = (1+2+1)/3 = 1.33"
   ]
  },
  {
   "cell_type": "markdown",
   "metadata": {},
   "source": [
    "**Question 3** Now verify the average shortest path length for each of the components in the graph, using the average_shortest_path_length method of the networkx library. For this purpose, one has to iterate over the connected components of the test_net graph.  \n",
    "  \n",
    "```\n",
    "BEGIN QUESTION\n",
    "name: q3\n",
    "points: 2\n",
    "manual: False\n",
    "```"
   ]
  },
  {
   "cell_type": "code",
   "execution_count": 32,
   "metadata": {
    "collapsed": false
   },
   "outputs": [
    {
     "name": "stdout",
     "output_type": "stream",
     "text": [
      "1.4\n",
      "1.3333333333333333\n"
     ]
    }
   ],
   "source": [
    "# BEGIN SOLUTION NO PROMPT\n",
    "for each in nx.connected_component_subgraphs(test_net):\n",
    "    print (nx.average_shortest_path_length(each))\n",
    "# END SOLUTION\n",
    "\"\"\" # BEGIN PROMPT\n",
    "for ... in nx.connected_component_subgraphs(...):\n",
    "    print (...(...)) # first ellipsis is for the function name, while the second one is for the arguments of the function\n",
    "\"\"\"; # END PROMPT"
   ]
  },
  {
   "cell_type": "markdown",
   "metadata": {},
   "source": [
    "For rest of this homework, we'll use the code that we used in the labs to read the Add Health networks in.\n",
    "The loading will take a few seconds..."
   ]
  },
  {
   "cell_type": "code",
   "execution_count": 33,
   "metadata": {
    "collapsed": true
   },
   "outputs": [],
   "source": [
    "def read_add_health_network(network_id):\n",
    "    \"\"\"\n",
    "    network_id : integer from 1 to 84\n",
    "    \n",
    "    read in the Add Health network corresponding to the given id number and\n",
    "    return it as an undirected networkx object\n",
    "    \"\"\"\n",
    "\n",
    "    # this file was downloaded from\n",
    "    # http://moreno.ss.uci.edu/data.html#adhealth\n",
    "    edge_file = os.path.join(\"../..\", \"data\", \"add-health\", \"comm\" + str(network_id) + \".dat\")\n",
    "    with open(edge_file, 'r') as f:\n",
    "        edge_lines = f.readlines()\n",
    "        \n",
    "    network = nx.parse_edgelist(edge_lines, nodetype=int, data=[('activity_level', float)])\n",
    "    \n",
    "    # note that we call the to_undirected method to ensure we get an undirected network\n",
    "    return(network.to_undirected())\n",
    "\n",
    "number_add_health_networks = 84\n",
    "add_health_networks = [read_add_health_network(x) for x in range(1,number_add_health_networks+1)]"
   ]
  },
  {
   "cell_type": "markdown",
   "metadata": {},
   "source": [
    "As a first step in the analysis, we will create a helper function to calculate average degree of a network."
   ]
  },
  {
   "cell_type": "markdown",
   "metadata": {},
   "source": [
    "**Question 4** Fill in the definition of a helper function to calculate the average degree of the given network.\n",
    "\n",
    "```\n",
    "BEGIN QUESTION\n",
    "name: q4\n",
    "points: 2\n",
    "manual: False\n",
    "```"
   ]
  },
  {
   "cell_type": "code",
   "execution_count": 34,
   "metadata": {
    "collapsed": false
   },
   "outputs": [
    {
     "data": {
      "text/plain": [
       "2.4444444444444446"
      ]
     },
     "execution_count": 34,
     "metadata": {},
     "output_type": "execute_result"
    }
   ],
   "source": [
    "# BEGIN SOLUTION NO PROMPT\n",
    "def average_degree(net):\n",
    "    return(2 * net.number_of_edges() / net.number_of_nodes())\n",
    "# END SOLUTION\n",
    "\"\"\" # BEGIN PROMPT\n",
    "def average_degree(net):\n",
    "    return(... / ...)\n",
    "\"\"\"; # END PROMPT\n",
    "\n",
    "avg_d=average_degree(test_net)\n",
    "avg_d"
   ]
  },
  {
   "cell_type": "code",
   "execution_count": 35,
   "metadata": {
    "collapsed": false
   },
   "outputs": [
    {
     "name": "stdout",
     "output_type": "stream",
     "text": [
      "2.44\n"
     ]
    }
   ],
   "source": [
    "# TEST\n",
    "print (round(avg_d,2))"
   ]
  },
  {
   "cell_type": "markdown",
   "metadata": {},
   "source": [
    "###  Empirical distribution in the Add Health networks"
   ]
  },
  {
   "cell_type": "markdown",
   "metadata": {},
   "source": [
    "First, we'll look at the empirical distribution of clustering and average path length in the Add Health networks."
   ]
  },
  {
   "cell_type": "markdown",
   "metadata": {},
   "source": [
    "**Question 5** Write a loop that goes through each of the 84 Add Health networks and calculates the clustering coefficient and the number of nodes in the network. *(Please use the average clustering coefficient, implemented by the `average_clustering` function from the networkx package.) *\n",
    "\n",
    "Store the results in a Table called `add_health_clustering` using columns called `num_nodes` and `avg_clustering_coef`.\n",
    "\n",
    "```\n",
    "BEGIN QUESTION\n",
    "name: q5\n",
    "points: 4\n",
    "manual: False\n",
    "```"
   ]
  },
  {
   "cell_type": "code",
   "execution_count": 36,
   "metadata": {
    "collapsed": false
   },
   "outputs": [
    {
     "data": {
      "text/html": [
       "<table border=\"1\" class=\"dataframe\">\n",
       "    <thead>\n",
       "        <tr>\n",
       "            <th>num_nodes</th> <th>avg_clustering_coef</th>\n",
       "        </tr>\n",
       "    </thead>\n",
       "    <tbody>\n",
       "        <tr>\n",
       "            <td>69       </td> <td>0.46781            </td>\n",
       "        </tr>\n",
       "        <tr>\n",
       "            <td>105      </td> <td>0.327214           </td>\n",
       "        </tr>\n",
       "        <tr>\n",
       "            <td>32       </td> <td>0.430558           </td>\n",
       "        </tr>\n",
       "        <tr>\n",
       "            <td>281      </td> <td>0.221537           </td>\n",
       "        </tr>\n",
       "        <tr>\n",
       "            <td>157      </td> <td>0.294993           </td>\n",
       "        </tr>\n",
       "        <tr>\n",
       "            <td>108      </td> <td>0.327537           </td>\n",
       "        </tr>\n",
       "        <tr>\n",
       "            <td>441      </td> <td>0.218287           </td>\n",
       "        </tr>\n",
       "        <tr>\n",
       "            <td>204      </td> <td>0.272334           </td>\n",
       "        </tr>\n",
       "        <tr>\n",
       "            <td>248      </td> <td>0.313195           </td>\n",
       "        </tr>\n",
       "        <tr>\n",
       "            <td>678      </td> <td>0.23361            </td>\n",
       "        </tr>\n",
       "    </tbody>\n",
       "</table>\n",
       "<p>... (74 rows omitted)</p>"
      ],
      "text/plain": [
       "num_nodes | avg_clustering_coef\n",
       "69        | 0.46781\n",
       "105       | 0.327214\n",
       "32        | 0.430558\n",
       "281       | 0.221537\n",
       "157       | 0.294993\n",
       "108       | 0.327537\n",
       "441       | 0.218287\n",
       "204       | 0.272334\n",
       "248       | 0.313195\n",
       "678       | 0.23361\n",
       "... (74 rows omitted)"
      ]
     },
     "execution_count": 36,
     "metadata": {},
     "output_type": "execute_result"
    }
   ],
   "source": [
    "clustering = make_array()\n",
    "num_nodes = make_array()\n",
    "\n",
    "# BEGIN SOLUTION NO PROMPT\n",
    "for g in add_health_networks:\n",
    "    clustering = np.append(clustering, nx.average_clustering(g))\n",
    "    num_nodes = np.append(num_nodes, g.number_of_nodes())\n",
    "# END SOLUTION\n",
    "\"\"\" # BEGIN PROMPT\n",
    "for g in ...:\n",
    "    clustering = np.append(clustering, ...)\n",
    "    num_nodes = np.append(num_nodes, ...)\n",
    "\"\"\"; # END PROMPT\n",
    "\n",
    "add_health_clustering = Table().with_columns(['num_nodes', num_nodes,\n",
    "                                              'avg_clustering_coef', clustering])\n",
    "add_health_clustering"
   ]
  },
  {
   "cell_type": "code",
   "execution_count": 37,
   "metadata": {
    "collapsed": false
   },
   "outputs": [
    {
     "data": {
      "text/plain": [
       "84"
      ]
     },
     "execution_count": 37,
     "metadata": {},
     "output_type": "execute_result"
    }
   ],
   "source": [
    "# TEST\n",
    "add_health_clustering.num_rows"
   ]
  },
  {
   "cell_type": "code",
   "execution_count": 38,
   "metadata": {
    "collapsed": false
   },
   "outputs": [
    {
     "data": {
      "text/plain": [
       "-0.66"
      ]
     },
     "execution_count": 38,
     "metadata": {},
     "output_type": "execute_result"
    }
   ],
   "source": [
    "# TEST\n",
    "round(float(np.corrcoef(add_health_clustering.column('num_nodes'), add_health_clustering.column('avg_clustering_coef'))[0,1]), 2)"
   ]
  },
  {
   "cell_type": "markdown",
   "metadata": {},
   "source": [
    "**Question 6** Plot a histogram showing the distribution of clustering coefficients across the 84 Add Health networks.\n",
    "\n",
    "```\n",
    "BEGIN QUESTION\n",
    "name: q6\n",
    "points: 2\n",
    "manual: True\n",
    "```"
   ]
  },
  {
   "cell_type": "code",
   "execution_count": 39,
   "metadata": {
    "collapsed": false
   },
   "outputs": [
    {
     "data": {
      "image/png": "[encoded data removed]",
      "text/plain": [
       "<Figure size 432x288 with 1 Axes>"
      ]
     },
     "metadata": {},
     "output_type": "display_data"
    }
   ],
   "source": [
    "# BEGIN SOLUTION\n",
    "add_health_clustering.hist('avg_clustering_coef')\n",
    "# END SOLUTION"
   ]
  },
  {
   "cell_type": "markdown",
   "metadata": {},
   "source": [
    "**Question 7** Make a scatter plot that compares the number of nodes in each network (x axis) to the clustering coefficient (y axis). Does it look like the clustering coefficient changes as the number of nodes does?\n",
    "\n",
    "```\n",
    "BEGIN QUESTION\n",
    "name: q7\n",
    "points: 2\n",
    "manual: True\n",
    "```"
   ]
  },
  {
   "cell_type": "code",
   "execution_count": 40,
   "metadata": {
    "collapsed": false
   },
   "outputs": [
    {
     "data": {
      "image/png": "[encoded data removed]",
      "text/plain": [
       "<Figure size 360x360 with 1 Axes>"
      ]
     },
     "metadata": {},
     "output_type": "display_data"
    }
   ],
   "source": [
    "# BEGIN SOLUTION NO PROMPT\n",
    "add_health_clustering.scatter('num_nodes', 'avg_clustering_coef')\n",
    "# answer: Yes: it looks like the average clustering coefficient decreases as the \n",
    "#         number of nodes increases. This decrease does not look linear: it is very \n",
    "#         sharp at first, and then it tapers off.\n",
    "# END SOLUTION\n",
    "\"\"\" # BEGIN PROMPT\n",
    "...\n",
    "# please answer the question as a comment here\n",
    "\"\"\"; # END PROMPT"
   ]
  },
  {
   "cell_type": "markdown",
   "metadata": {},
   "source": [
    "###  Average path length of biggest component"
   ]
  },
  {
   "cell_type": "markdown",
   "metadata": {},
   "source": [
    "Remember that it really only makes sense to think about the average path length between two nodes that are in the same component. (Nodes in different components have no path between them.) Since some of the Add Health networks have more than one component, we'll start by picking out only the largest component in each network."
   ]
  },
  {
   "cell_type": "code",
   "execution_count": 41,
   "metadata": {
    "collapsed": true
   },
   "outputs": [],
   "source": [
    "# This might take a few seconds...\n",
    "def get_biggest_component(network):\n",
    "    biggest = max(nx.connected_component_subgraphs(network), key=len)\n",
    "    return(biggest)\n",
    "\n",
    "add_health_biggest_components = [get_biggest_component(g) for g in add_health_networks]"
   ]
  },
  {
   "cell_type": "markdown",
   "metadata": {},
   "source": [
    "**Question 8** Write a loop that goes through the largest component of each of the 84 Add Health networks and calculates the average shortest path length and the number of nodes in the network. Store the results in a Table called `add_health_sp` using columns called `num_nodes` and `avg_shortest_path`.\n",
    "\n",
    "```\n",
    "BEGIN QUESTION\n",
    "name: q8\n",
    "points: 5\n",
    "manual: False\n",
    "```"
   ]
  },
  {
   "cell_type": "code",
   "execution_count": 42,
   "metadata": {
    "collapsed": false
   },
   "outputs": [
    {
     "data": {
      "text/html": [
       "<table border=\"1\" class=\"dataframe\">\n",
       "    <thead>\n",
       "        <tr>\n",
       "            <th>num_nodes</th> <th>avg_shortest_path</th> <th>avg_degree</th>\n",
       "        </tr>\n",
       "    </thead>\n",
       "    <tbody>\n",
       "        <tr>\n",
       "            <td>69       </td> <td>2.95524          </td> <td>6.37681   </td>\n",
       "        </tr>\n",
       "        <tr>\n",
       "            <td>103      </td> <td>3.19417          </td> <td>6.75728   </td>\n",
       "        </tr>\n",
       "        <tr>\n",
       "            <td>32       </td> <td>2.38508          </td> <td>5.6875    </td>\n",
       "        </tr>\n",
       "        <tr>\n",
       "            <td>281      </td> <td>3.36398          </td> <td>8.08541   </td>\n",
       "        </tr>\n",
       "        <tr>\n",
       "            <td>157      </td> <td>2.84828          </td> <td>9.29936   </td>\n",
       "        </tr>\n",
       "        <tr>\n",
       "            <td>108      </td> <td>3.02648          </td> <td>7         </td>\n",
       "        </tr>\n",
       "        <tr>\n",
       "            <td>437      </td> <td>3.86129          </td> <td>7.77117   </td>\n",
       "        </tr>\n",
       "        <tr>\n",
       "            <td>204      </td> <td>3.36965          </td> <td>7.93137   </td>\n",
       "        </tr>\n",
       "        <tr>\n",
       "            <td>248      </td> <td>3.43268          </td> <td>8.09677   </td>\n",
       "        </tr>\n",
       "        <tr>\n",
       "            <td>678      </td> <td>4.13973          </td> <td>8.24484   </td>\n",
       "        </tr>\n",
       "    </tbody>\n",
       "</table>\n",
       "<p>... (74 rows omitted)</p>"
      ],
      "text/plain": [
       "num_nodes | avg_shortest_path | avg_degree\n",
       "69        | 2.95524           | 6.37681\n",
       "103       | 3.19417           | 6.75728\n",
       "32        | 2.38508           | 5.6875\n",
       "281       | 3.36398           | 8.08541\n",
       "157       | 2.84828           | 9.29936\n",
       "108       | 3.02648           | 7\n",
       "437       | 3.86129           | 7.77117\n",
       "204       | 3.36965           | 7.93137\n",
       "248       | 3.43268           | 8.09677\n",
       "678       | 4.13973           | 8.24484\n",
       "... (74 rows omitted)"
      ]
     },
     "execution_count": 42,
     "metadata": {},
     "output_type": "execute_result"
    }
   ],
   "source": [
    "## NOTE: your code might take a little while\n",
    "##       (~3-5 minutes) to run\n",
    "\n",
    "avg_shortest_path = make_array()\n",
    "num_nodes = make_array()\n",
    "\n",
    "avg_degree = make_array()\n",
    "\n",
    "# BEGIN SOLUTION NO PROMPT\n",
    "for c in add_health_biggest_components:\n",
    "    avg_shortest_path = np.append(avg_shortest_path, nx.average_shortest_path_length(c))\n",
    "    num_nodes = np.append(num_nodes, c.number_of_nodes())\n",
    "    avg_degree = np.append(avg_degree, average_degree(c))\n",
    "# END SOLUTION\n",
    "\"\"\" # BEGIN PROMPT\n",
    "for c in ...:\n",
    "    avg_shortest_path = np.append(avg_shortest_path, ...)\n",
    "    num_nodes = np.append(num_nodes, ...)\n",
    "    avg_degree = np.append(avg_degree, ...)\n",
    "\"\"\"; # END PROMPT\n",
    "\n",
    "add_health_sp = Table().with_columns(['num_nodes', num_nodes,\n",
    "                                      'avg_shortest_path', avg_shortest_path,\n",
    "                                      'avg_degree', avg_degree])\n",
    "\n",
    "add_health_sp"
   ]
  },
  {
   "cell_type": "code",
   "execution_count": 43,
   "metadata": {
    "collapsed": false
   },
   "outputs": [
    {
     "data": {
      "text/plain": [
       "860.26"
      ]
     },
     "execution_count": 43,
     "metadata": {},
     "output_type": "execute_result"
    }
   ],
   "source": [
    "# TEST\n",
    "round(float(np.mean(add_health_sp.column('num_nodes'))), 2)"
   ]
  },
  {
   "cell_type": "code",
   "execution_count": 44,
   "metadata": {
    "collapsed": false
   },
   "outputs": [
    {
     "data": {
      "text/plain": [
       "-0.65"
      ]
     },
     "execution_count": 44,
     "metadata": {},
     "output_type": "execute_result"
    }
   ],
   "source": [
    "# TEST\n",
    "round(float(np.corrcoef(add_health_sp.column('avg_shortest_path'),add_health_sp.column('avg_degree'))[0,1]),2)"
   ]
  },
  {
   "cell_type": "markdown",
   "metadata": {},
   "source": [
    "**Question 9** Plot a histogram showing the distribution of average shortest path lengths across the 84 Add Health networks' largest components.  \n",
    "```\n",
    "BEGIN QUESTION\n",
    "name: q9\n",
    "points: 2\n",
    "manual: True\n",
    "```"
   ]
  },
  {
   "cell_type": "code",
   "execution_count": 45,
   "metadata": {
    "collapsed": false
   },
   "outputs": [
    {
     "data": {
      "image/png": "[encoded data removed]",
      "text/plain": [
       "<Figure size 432x288 with 1 Axes>"
      ]
     },
     "metadata": {},
     "output_type": "display_data"
    }
   ],
   "source": [
    "# BEGIN SOLUTION\n",
    "add_health_sp.hist('avg_shortest_path')\n",
    "# END SOLUTION"
   ]
  },
  {
   "cell_type": "markdown",
   "metadata": {},
   "source": [
    "**Question 10** Make a scatter plot that compares the number of nodes in each largest component (x axis) to the average shortest path (y axis). Does it look like the average shortest path changes as the number of nodes does?\n",
    "\n",
    "```\n",
    "BEGIN QUESTION\n",
    "name: q10\n",
    "points: 4\n",
    "manual: True\n",
    "```"
   ]
  },
  {
   "cell_type": "code",
   "execution_count": 46,
   "metadata": {
    "collapsed": false
   },
   "outputs": [
    {
     "data": {
      "image/png": "[encoded data removed]",
      "text/plain": [
       "<Figure size 360x360 with 1 Axes>"
      ]
     },
     "metadata": {},
     "output_type": "display_data"
    }
   ],
   "source": [
    "# BEGIN SOLUTION NO PROMPT\n",
    "add_health_sp.scatter('num_nodes', 'avg_shortest_path')\n",
    "# answer: It looks like the average shortest path length increases as the number of nodes does. \n",
    "#         This increase does not look linear: it is very sharp when num_nodes is small. \n",
    "#         As num_nodes increases, there is more variation so it becomes harder to generalize; \n",
    "#         however, it looks like the increase in average shortest path length tends to get smaller.\n",
    "# END SOLUTION\n",
    "\"\"\" # BEGIN PROMPT\n",
    "...\n",
    "# please answer the question as a comment here\n",
    "\"\"\"; # END PROMPT"
   ]
  },
  {
   "cell_type": "markdown",
   "metadata": {},
   "source": [
    "### P-values"
   ]
  },
  {
   "cell_type": "markdown",
   "metadata": {},
   "source": [
    "In the introduction to this section, you read that the small world theory suggests that a social network should have a large clustering coefficient and a small average path length. But what do large and small mean? In other words, what should we think about comparing these networks to?\n",
    "\n",
    "We'll use Erdos-Renyi random networks as a null model. Specifically, we're going to\n",
    "\n",
    "* pick one specific Add Health network to test\n",
    "* generate ER networks that 'match' that specific Add Health network\n",
    "* compare the clustering coefficient / average path lengths of the ER networks to the ones we observe in the Add Health network\n"
   ]
  },
  {
   "cell_type": "markdown",
   "metadata": {},
   "source": [
    "Let's pick out one particular Add Health network to focus on for this part."
   ]
  },
  {
   "cell_type": "code",
   "execution_count": 47,
   "metadata": {
    "collapsed": true
   },
   "outputs": [],
   "source": [
    "# the specific Add Health network we'll look at\n",
    "ahn = add_health_networks[17]"
   ]
  },
  {
   "cell_type": "markdown",
   "metadata": {},
   "source": [
    "... and let's also use a couple of functions that we created in the ER lecture notebook:"
   ]
  },
  {
   "cell_type": "code",
   "execution_count": 48,
   "metadata": {
    "collapsed": true
   },
   "outputs": [],
   "source": [
    "def er_by_degree(n, avg_degree):\n",
    "    \"\"\"\n",
    "    Create an Erdos-Renyi random network using the parameterization\n",
    "    based on n, the number of nodes; and avg_degree, the expected degree\n",
    "    \"\"\"\n",
    "    return(nx.erdos_renyi_graph(n=n, p=avg_degree / (n-1)))\n",
    "\n",
    "def rand_er_network(network):\n",
    "    \"\"\"\n",
    "    Return a random network generated from the ER model using\n",
    "    the degree sequence of the network passed in\n",
    "    \"\"\"\n",
    "    network_n = network.number_of_nodes()\n",
    "    network_dbar = average_degree(network)\n",
    "    return(er_by_degree(network_n, network_dbar)) # generate a new random network based on the n and dbar of the input network"
   ]
  },
  {
   "cell_type": "markdown",
   "metadata": {},
   "source": [
    "### Developing a simulation from a null model"
   ]
  },
  {
   "cell_type": "markdown",
   "metadata": {},
   "source": [
    "**Question 11** Write a function which, given a network, returns its average shortest path length. If the network has more than one component, your function should return the average path length in the biggest component.  \n",
    "\n",
    "```\n",
    "BEGIN QUESTION\n",
    "name: q11\n",
    "points: 3\n",
    "manual: False\n",
    "```"
   ]
  },
  {
   "cell_type": "code",
   "execution_count": 49,
   "metadata": {
    "collapsed": true
   },
   "outputs": [],
   "source": [
    "def avg_path_length(net):\n",
    "    # BEGIN SOLUTION NO PROMPT\n",
    "    if nx.number_connected_components(net) > 1:\n",
    "        net = get_biggest_component(net)\n",
    "    return(nx.average_shortest_path_length(net))\n",
    "    # END SOLUTION\n",
    "    \"\"\" # BEGIN PROMPT\n",
    "    if nx.number_connected_components(net) > 1:\n",
    "        net = ...\n",
    "    return(...)    \n",
    "    \"\"\"; # END PROMPT"
   ]
  },
  {
   "cell_type": "code",
   "execution_count": 50,
   "metadata": {
    "collapsed": false
   },
   "outputs": [
    {
     "data": {
      "text/plain": [
       "3.364"
      ]
     },
     "execution_count": 50,
     "metadata": {},
     "output_type": "execute_result"
    }
   ],
   "source": [
    "# TEST\n",
    "round(avg_path_length(add_health_networks[3]), 3)"
   ]
  },
  {
   "cell_type": "code",
   "execution_count": 51,
   "metadata": {
    "collapsed": false
   },
   "outputs": [
    {
     "data": {
      "text/plain": [
       "3.194"
      ]
     },
     "execution_count": 51,
     "metadata": {},
     "output_type": "execute_result"
    }
   ],
   "source": [
    "# TEST\n",
    "round(avg_path_length(add_health_networks[1]), 3)"
   ]
  },
  {
   "cell_type": "markdown",
   "metadata": {},
   "source": [
    "**Question 12** Write a simulation that generates 100 Erdos Renyi random networks that match the Add Health network `ahn`. (By 'match', we mean that the ER network should have the same average degree and number of nodes as the Add Health network `ahn`.). For each generated ER network, calculate the average clustering and use the function you wrote above to calculate the average path length. Store the results in a table called `er_res`.\n",
    "\n",
    "```\n",
    "BEGIN QUESTION\n",
    "name: q12\n",
    "points: 5\n",
    "manual: False\n",
    "```"
   ]
  },
  {
   "cell_type": "code",
   "execution_count": 52,
   "metadata": {
    "collapsed": false
   },
   "outputs": [
    {
     "data": {
      "text/html": [
       "<table border=\"1\" class=\"dataframe\">\n",
       "    <thead>\n",
       "        <tr>\n",
       "            <th>cc</th> <th>apl</th>\n",
       "        </tr>\n",
       "    </thead>\n",
       "    <tbody>\n",
       "        <tr>\n",
       "            <td>0.0239806</td> <td>2.90108</td>\n",
       "        </tr>\n",
       "        <tr>\n",
       "            <td>0.0264495</td> <td>2.93428</td>\n",
       "        </tr>\n",
       "        <tr>\n",
       "            <td>0.0295912</td> <td>2.81847</td>\n",
       "        </tr>\n",
       "        <tr>\n",
       "            <td>0.0323136</td> <td>2.86503</td>\n",
       "        </tr>\n",
       "        <tr>\n",
       "            <td>0.0276704</td> <td>2.91106</td>\n",
       "        </tr>\n",
       "        <tr>\n",
       "            <td>0.0233145</td> <td>2.94428</td>\n",
       "        </tr>\n",
       "        <tr>\n",
       "            <td>0.0416625</td> <td>2.89412</td>\n",
       "        </tr>\n",
       "        <tr>\n",
       "            <td>0.0311262</td> <td>2.84139</td>\n",
       "        </tr>\n",
       "        <tr>\n",
       "            <td>0.0357873</td> <td>2.85876</td>\n",
       "        </tr>\n",
       "        <tr>\n",
       "            <td>0.0300286</td> <td>2.88638</td>\n",
       "        </tr>\n",
       "    </tbody>\n",
       "</table>\n",
       "<p>... (90 rows omitted)</p>"
      ],
      "text/plain": [
       "cc        | apl\n",
       "0.0239806 | 2.90108\n",
       "0.0264495 | 2.93428\n",
       "0.0295912 | 2.81847\n",
       "0.0323136 | 2.86503\n",
       "0.0276704 | 2.91106\n",
       "0.0233145 | 2.94428\n",
       "0.0416625 | 2.89412\n",
       "0.0311262 | 2.84139\n",
       "0.0357873 | 2.85876\n",
       "0.0300286 | 2.88638\n",
       "... (90 rows omitted)"
      ]
     },
     "execution_count": 52,
     "metadata": {},
     "output_type": "execute_result"
    }
   ],
   "source": [
    "# Running the code will take about 1 min...\n",
    "import random\n",
    "random.seed(1111)\n",
    "\n",
    "# calculate the average path length and average clustering coefficient for the observed network ahn.\n",
    "observed_apl = avg_path_length(ahn) \n",
    "observed_cc = nx.average_clustering(ahn)\n",
    "\n",
    "# then start to generate ER networks based on the observed network, \n",
    "# and store the cc and apl of the generated networks in arrays that build into a table\n",
    "er_cc = make_array()\n",
    "er_apl = make_array()\n",
    "\n",
    "# the underscore (_) means that we don't\n",
    "# care which iteration is which -- we just want\n",
    "# to repeat this 100 times\n",
    "for _ in range(100):\n",
    " \n",
    "    # BEGIN SOLUTION NO PROMPT\n",
    "    er_net = rand_er_network(ahn)\n",
    "    er_cc = np.append(er_cc, nx.average_clustering(er_net))\n",
    "    er_apl = np.append(er_apl, avg_path_length(er_net))\n",
    "    # END SOLUTION\n",
    "    \"\"\" # BEGIN PROMPT\n",
    "    er_net = ...\n",
    "    er_cc = np.append(er_cc, ...)\n",
    "    er_apl = np.append(er_apl, ...)    \n",
    "    \"\"\"; # END PROMPT\n",
    "    \n",
    "er_res = Table().with_columns('cc', er_cc,\n",
    "                              'apl', er_apl)\n",
    "\n",
    "er_res"
   ]
  },
  {
   "cell_type": "code",
   "execution_count": 53,
   "metadata": {
    "collapsed": false
   },
   "outputs": [
    {
     "data": {
      "text/plain": [
       "0.03"
      ]
     },
     "execution_count": 53,
     "metadata": {},
     "output_type": "execute_result"
    }
   ],
   "source": [
    "# TEST\n",
    "round(float(np.mean(er_res.column(0))), 2)"
   ]
  },
  {
   "cell_type": "code",
   "execution_count": 54,
   "metadata": {
    "collapsed": false
   },
   "outputs": [
    {
     "data": {
      "text/plain": [
       "2.89"
      ]
     },
     "execution_count": 54,
     "metadata": {},
     "output_type": "execute_result"
    }
   ],
   "source": [
    "# TEST\n",
    "round(float(np.mean(er_res.column(1))), 2)"
   ]
  },
  {
   "cell_type": "code",
   "execution_count": 55,
   "metadata": {
    "collapsed": false
   },
   "outputs": [
    {
     "data": {
      "text/plain": [
       "-0.25"
      ]
     },
     "execution_count": 55,
     "metadata": {},
     "output_type": "execute_result"
    }
   ],
   "source": [
    "# TEST\n",
    "round(float(np.corrcoef(er_res['cc'], er_res['apl'])[0,1]),2)"
   ]
  },
  {
   "cell_type": "markdown",
   "metadata": {},
   "source": [
    "Now let's print out the observed average path length in the Add Health network `ahn` and plot a histogram of the average path lengths in the ER networks you just simulated."
   ]
  },
  {
   "cell_type": "code",
   "execution_count": 56,
   "metadata": {
    "collapsed": false
   },
   "outputs": [
    {
     "name": "stdout",
     "output_type": "stream",
     "text": [
      "The observed average path length is: 3.251828995172448\n"
     ]
    },
    {
     "data": {
      "image/png": "[encoded data removed]",
      "text/plain": [
       "<Figure size 432x288 with 1 Axes>"
      ]
     },
     "metadata": {},
     "output_type": "display_data"
    }
   ],
   "source": [
    "print(\"The observed average path length is:\", observed_apl)\n",
    "er_res.hist('apl')"
   ]
  },
  {
   "cell_type": "markdown",
   "metadata": {},
   "source": [
    "**Question 13** Where would the observed Add Health network's statistic fall in the Erdos Renyi networks' distribution?  \n",
    "```\n",
    "BEGIN QUESTION\n",
    "name: q13\n",
    "manual: True\n",
    "points: 2\n",
    "```"
   ]
  },
  {
   "cell_type": "markdown",
   "metadata": {},
   "source": [
    "**SOLUTION:** It would fall way off in the upper tail, off the x axis to the right of the histogram we made above."
   ]
  },
  {
   "cell_type": "markdown",
   "metadata": {},
   "source": [
    "###  Calculating P values"
   ]
  },
  {
   "cell_type": "markdown",
   "metadata": {},
   "source": [
    "**Note**: Questions 14 and 16 below ask you to calculate a $p$ value. The calculation is not especially tricky, but if you want to review $p$ values and hypothesis tests in general, you can check out these [slides from Data 8](https://docs.google.com/presentation/d/1SXmBC3B452sW1qerhQ-bjpoR58tmAz100yf6rj2D1iI/edit#slide=id.g210ec578e3_0_0)."
   ]
  },
  {
   "cell_type": "markdown",
   "metadata": {},
   "source": [
    "**Comparing the Add Health average path length to the null model**"
   ]
  },
  {
   "cell_type": "markdown",
   "metadata": {},
   "source": [
    "**Question 14** Now use your results to calculate a $p$ value for the hypothesis that the Add Health network's average path length was generated by the ER model; the alternative hypothesis should be that the Add Health network's average path length is shorter than it would be in the ER model. \n",
    "\n",
    "```\n",
    "BEGIN QUESTION\n",
    "name: q14\n",
    "points: 3\n",
    "manual: False\n",
    "```"
   ]
  },
  {
   "cell_type": "code",
   "execution_count": 57,
   "metadata": {
    "collapsed": false
   },
   "outputs": [
    {
     "data": {
      "text/plain": [
       "1.0"
      ]
     },
     "execution_count": 57,
     "metadata": {},
     "output_type": "execute_result"
    }
   ],
   "source": [
    "# BEGIN SOLUTION NO PROMPT\n",
    "emp_p_value_apl = np.mean(er_res.column('apl') <= observed_apl)\n",
    "# END SOLUTION\n",
    "\"\"\" # BEGIN PROMPT\n",
    "emp_p_value_apl=np.mean(...) #fill in the condition corresponding to the alternative hypothesis\n",
    "\"\"\"; # END PROMPT\n",
    "\n",
    "emp_p_value_apl"
   ]
  },
  {
   "cell_type": "code",
   "execution_count": 58,
   "metadata": {
    "collapsed": false
   },
   "outputs": [
    {
     "data": {
      "text/plain": [
       "1.0"
      ]
     },
     "execution_count": 58,
     "metadata": {},
     "output_type": "execute_result"
    }
   ],
   "source": [
    "# TEST\n",
    "emp_p_value_apl"
   ]
  },
  {
   "cell_type": "markdown",
   "metadata": {},
   "source": [
    "**Comparing the Add Health average clustering coefficient to the null model**"
   ]
  },
  {
   "cell_type": "markdown",
   "metadata": {},
   "source": [
    "Now let's print out the observed average clustering in the Add Health network `ahn` and plot a histogram of the average clusterings in the ER networks you just simulated. Be sure to observe where the observed Add Health network's statistic would fall in the ER distribution."
   ]
  },
  {
   "cell_type": "code",
   "execution_count": 59,
   "metadata": {
    "collapsed": false
   },
   "outputs": [
    {
     "name": "stdout",
     "output_type": "stream",
     "text": [
      "Observed average clustering coefficient: 0.2499682720911412\n"
     ]
    },
    {
     "data": {
      "image/png": "[encoded data removed]",
      "text/plain": [
       "<Figure size 432x288 with 1 Axes>"
      ]
     },
     "metadata": {},
     "output_type": "display_data"
    }
   ],
   "source": [
    "print(\"Observed average clustering coefficient:\", observed_cc)\n",
    "er_res.hist('cc')"
   ]
  },
  {
   "cell_type": "markdown",
   "metadata": {},
   "source": [
    "**Question 15** Now use your results to calculate a $p$ value for the hypothesis that the Add Health network's average clustering was generated by the ER model; the alternative hypothesis should be that the Add Health network's average clustering is greater than it would be in the ER model.\n",
    "\n",
    "```\n",
    "BEGIN QUESTION\n",
    "name: q15\n",
    "points: 3\n",
    "manual: False\n",
    "```"
   ]
  },
  {
   "cell_type": "code",
   "execution_count": 60,
   "metadata": {
    "collapsed": false
   },
   "outputs": [
    {
     "data": {
      "text/plain": [
       "0.0"
      ]
     },
     "execution_count": 60,
     "metadata": {},
     "output_type": "execute_result"
    }
   ],
   "source": [
    "# BEGIN SOLUTION NO PROMPT\n",
    "emp_p_value_cc = np.mean(er_res.column('cc') >= observed_cc)\n",
    "# END SOLUTION\n",
    "\"\"\" # BEGIN PROMPT\n",
    "emp_p_value_cc = np.mean(...) #fill in the condition corresponding to the alternative hypothesis\n",
    "\"\"\"; # END PROMPT\n",
    "emp_p_value_cc"
   ]
  },
  {
   "cell_type": "code",
   "execution_count": 61,
   "metadata": {
    "collapsed": false
   },
   "outputs": [
    {
     "data": {
      "text/plain": [
       "0.0"
      ]
     },
     "execution_count": 61,
     "metadata": {},
     "output_type": "execute_result"
    }
   ],
   "source": [
    "# TEST\n",
    "emp_p_value_cc"
   ]
  },
  {
   "cell_type": "markdown",
   "metadata": {},
   "source": [
    "**Question 16** What do these two $p$ values lead you to conclude about the agreement between the ER model and the small world hypothesis (at least, using information from the Add Health network)?\n",
    "\n",
    "```\n",
    "BEGIN QUESTION\n",
    "name: q16\n",
    "points: 4\n",
    "manual: True\n",
    "```"
   ]
  },
  {
   "cell_type": "markdown",
   "metadata": {},
   "source": [
    "**SOLUTION:** The first $p$ value suggests that the average path length observed in the Add Health network is not shorter than the average path length implied by the ER model. The second $p$ value suggests that the observed clustering in the Add Health network is higher than the average clustering implied by the ER model."
   ]
  },
  {
   "cell_type": "markdown",
   "metadata": {},
   "source": [
    "# SUBMIT YOUR ASSIGNMENT"
   ]
  },
  {
   "cell_type": "code",
   "execution_count": null,
   "metadata": {
    "collapsed": true
   },
   "outputs": [],
   "source": [
    "import os\n",
    "print(\"Running all tests...\")\n",
    "_ = [ok.grade(q[:-3]) for q in os.listdir(\"tests\") if q.startswith('q')]\n",
    "print(\"Finished running all tests.\")"
   ]
  },
  {
   "cell_type": "markdown",
   "metadata": {},
   "source": [
    "In order to submit your assignment, run the next cell.\n",
    "\n",
    "You can submit as many times as you want (up to the deadline, 9 pm on Friday, March 8th)."
   ]
  }
 ],
 "metadata": {
  "anaconda-cloud": {},
  "kernelspec": {
   "display_name": "Python 3",
   "language": "python",
   "name": "python3"
  },
  "language_info": {
   "codemirror_mode": {
    "name": "ipython",
    "version": 3
   },
   "file_extension": ".py",
   "mimetype": "text/x-python",
   "name": "python",
   "nbconvert_exporter": "python",
   "pygments_lexer": "ipython3",
   "version": "3.6.0"
  }
 },
 "nbformat": 4,
 "nbformat_minor": 1
}
