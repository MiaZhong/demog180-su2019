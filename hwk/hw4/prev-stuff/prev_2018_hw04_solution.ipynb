{
 "cells": [
  {
   "cell_type": "code",
   "execution_count": null,
   "metadata": {
    "collapsed": true
   },
   "outputs": [],
   "source": [
    "!pip install --upgrade networkx"
   ]
  },
  {
   "cell_type": "code",
   "execution_count": null,
   "metadata": {
    "collapsed": true
   },
   "outputs": [],
   "source": [
    "from IPython.core.display import HTML\n",
    "from datascience import *\n",
    "\n",
    "import matplotlib\n",
    "matplotlib.use('Agg')\n",
    "%matplotlib inline\n",
    "import matplotlib.pyplot as plt\n",
    "import numpy as np\n",
    "import os\n",
    "plt.style.use('fivethirtyeight')\n",
    "\n",
    "import networkx as nx\n",
    "from networkx.algorithms import bipartite"
   ]
  },
  {
   "cell_type": "code",
   "execution_count": null,
   "metadata": {
    "collapsed": true
   },
   "outputs": [],
   "source": [
    "def css_styling():\n",
    "    styles = open('../../notebook_styles.css', 'r').read()\n",
    "    return HTML(styles)\n",
    "css_styling()"
   ]
  },
  {
   "cell_type": "code",
   "execution_count": null,
   "metadata": {
    "collapsed": true
   },
   "outputs": [],
   "source": [
    "# https://ipython.org/ipython-doc/3/config/extensions/autoreload.html\n",
    "%load_ext autoreload\n",
    "%autoreload 2"
   ]
  },
  {
   "cell_type": "code",
   "execution_count": null,
   "metadata": {
    "collapsed": true
   },
   "outputs": [],
   "source": [
    "from client.api.notebook import Notebook \n",
    "hwk_sw = Notebook('hw04.ok')\n",
    "_ = hwk_sw.auth(inline=True)"
   ]
  },
  {
   "cell_type": "markdown",
   "metadata": {},
   "source": [
    "\n",
    "# Homework 04"
   ]
  },
  {
   "cell_type": "markdown",
   "metadata": {},
   "source": [
    "## Small worlds"
   ]
  },
  {
   "cell_type": "markdown",
   "metadata": {},
   "source": [
    "In this homework assignment, we're going to explore the concept of *small worlds*, which we discussed in class earlier this semester.  Small worlds have long been studied by social networks researchers, and they have also been discussed in popular culture. As a reminder, the rough idea is that social networks can typically be expected to have two characteristics:\n",
    "\n",
    "* a high level of clustering\n",
    "* a short average path length\n",
    "\n",
    "A high level of clustering is consistent with the idea of triadic closure. And a short average path length is supposed to capture situations we often seem to encounter in our day to day lives: e.g., two strangers find that they have an unexpected acquaintance in common and exclaim \"it's a small world!\" (see the Milgram article below).\n",
    "\n",
    "We're going to try to assess how well these two small world predictions hold up empirically. We're going to focus on the Add Health networks. We should bear in mind that the small world theory is really about very large networks, so we will be evaluating it in an unusual situation: networks of moderate size taken from children who all live in the same community.\n",
    "\n",
    "In case you want to read some of the original small world research papers, you can check out some of the papers we talked about in lecture. Here is an article describing an early empirical study by Milgram:\n",
    "\n",
    "* [Milgram 1967](http://measure.igpp.ucla.edu/GK12-SEE-LA/Lesson_Files_09/Tina_Wey/TW_social_networks_Milgram_1967_small_world_problem.pdf)\n",
    "\n",
    "And here are a couple of more recent studies in which researchers analyzed mathematical models that can produce networks with small-world properties:\n",
    "\n",
    "* [Watts & Strogatz 1998](http://www.nature.com/nature/journal/v393/n6684/abs/393440a0.html)\n",
    "* [Watts 1999](http://www.jstor.org/stable/10.1086/210318?seq=1#page_scan_tab_contents)"
   ]
  },
  {
   "cell_type": "markdown",
   "metadata": {},
   "source": [
    "First, we'll start by looking at this sample network: "
   ]
  },
  {
   "cell_type": "code",
   "execution_count": null,
   "metadata": {
    "collapsed": true
   },
   "outputs": [],
   "source": [
    "test_net = nx.Graph([(1,2), (1,3), (2,3), (4,5), (4,6), (4,3), (5,6), (3,5), (2,6), (7,8), (8,9)])\n",
    "nx.draw_circular(test_net, with_labels=True)"
   ]
  },
  {
   "cell_type": "markdown",
   "metadata": {},
   "source": [
    "\n",
    "**Question 1** Fill in the table below with the shortest distance between each pair of vertices. Enter INF if the nodes are disconnected"
   ]
  },
  {
   "cell_type": "markdown",
   "metadata": {},
   "source": [
    "|             |  node 1 | node 2 |  node 3 | node 4 | node 5 | node 6 | node 7 | node 8 | node 9 |\n",
    "|   :----:    |  :---:  |  :---: |  :---:  |  :---: |  :---: |  :---: |  :---: |  :---: |  :---: |\n",
    "|   node 1    |    -    |  (?)   |    (?)  |    (?) |    (?) |    (?) |    (?) |    (?) |    (?) |\n",
    "|   node 2    |    -    |    -   |    (?)  |    (?) |    (?) |    (?) |    (?) |    (?) |    (?) |\n",
    "|   node 3    |    -    |    -   |    -    |    (?) |    (?) |    (?) |    (?) |    (?) |    (?) |\n",
    "|   node 4    |    -    |    -   |    -    |   -    |    (?) |    (?) |    (?) |    (?) |    (?) |\n",
    "|   node 5    |    -    |    -   |    -    |   -    |   -    |    (?) |    (?) |    (?) |    (?) |\n",
    "|   node 6    |    -    |    -   |    -    |   -    |   -    |   -    |    (?) |    (?) |    (?) |\n",
    "|   node 7    |    -    |    -   |    -    |   -    |   -    |        |   -    |    (?) |    (?) |\n",
    "|   node 8    |    -    |    -   |    -    |   -    |   -    |        |        |   -    |    (?) |\n",
    "|   node 9    |    -    |    -   |    -    |   -    |   -    |        |        |        |   -    |"
   ]
  },
  {
   "cell_type": "markdown",
   "metadata": {},
   "source": [
    "<!-- <div class='solution'> -->\n",
    "|             |  node 1 | node 2 |  node 3 | node 4 | node 5 | node 6 | node 7 | node 8 | node 9 |\n",
    "|   :----:    |  :---:  |  :---: |  :---:  |  :---: |  :---: |  :---: |  :---: |  :---: |  :---: |\n",
    "|   node 1    |    -    |   1    |    1    |    2   |    2   |    2   |    INF |    INF |    INF |\n",
    "|   node 2    |    -    |    -   |    1    |    2   |    2   |    1   |    INF |    INF |    INF |\n",
    "|   node 3    |    -    |    -   |    -    |    1   |    1   |    2   |    INF |    INF |    INF |\n",
    "|   node 4    |    -    |    -   |    -    |   -    |    1   |    1   |    INF |    INF |    INF |\n",
    "|   node 5    |    -    |    -   |    -    |   -    |   -    |    1   |    INF |    INF |    INF |\n",
    "|   node 6    |    -    |    -   |    -    |   -    |   -    |   -    |    INF |    INF |    INF |\n",
    "|   node 7    |    -    |    -   |    -    |   -    |   -    |        |   -    |    1   |     2  |\n",
    "|   node 8    |    -    |    -   |    -    |   -    |   -    |        |        |   -    |    1   |\n",
    "|   node 9    |    -    |    -   |    -    |   -    |   -    |        |        |        |   -    |\n"
   ]
  },
  {
   "cell_type": "markdown",
   "metadata": {},
   "source": [
    "** Question 2** Now manually calculate the average shortest path length **for each** of the connected components in the network.\n"
   ]
  },
  {
   "cell_type": "markdown",
   "metadata": {},
   "source": [
    "<div class='response'>\n",
    "[Answer here]\n",
    "</div>"
   ]
  },
  {
   "cell_type": "markdown",
   "metadata": {},
   "source": [
    "<div class='solution'>\n",
    "There are two connected components (CC) in the network\n",
    "1) CC with nodes 1,2,3,4,5,6\n",
    "Average shortest path length = (1+1+2+2+2+1+2+2+1+1+1+2+1+1+1)/15=1.4\n",
    "2) CC with nodes 7,8,9\n",
    "Average shortest path length = (1+2+1)/3 = 1.33\n",
    "   </div>"
   ]
  },
  {
   "cell_type": "markdown",
   "metadata": {},
   "source": [
    "** Question 3** Now verify the average shortest path length for each of the components in the graph, using the average_shortest_path_length method of the networkx library. For this purpose, one has to iterate over the connected components of the test_net graph.\n"
   ]
  },
  {
   "cell_type": "code",
   "execution_count": null,
   "metadata": {
    "collapsed": true
   },
   "outputs": [],
   "source": [
    "for ... in nx.connected_component_subgraphs(...):\n",
    "    print (...(...)) # first ellipsis is for the function name, while the second one is for the arguments of the function"
   ]
  },
  {
   "cell_type": "code",
   "execution_count": null,
   "metadata": {
    "collapsed": true
   },
   "outputs": [],
   "source": [
    "#SOLUTION\n",
    "for each in nx.connected_component_subgraphs(test_net):\n",
    "    print (nx.average_shortest_path_length(each))"
   ]
  },
  {
   "cell_type": "markdown",
   "metadata": {},
   "source": [
    "For rest of this homework, we'll use the code that we used in the labs to read the Add Health networks in."
   ]
  },
  {
   "cell_type": "code",
   "execution_count": null,
   "metadata": {
    "collapsed": true
   },
   "outputs": [],
   "source": [
    "def read_add_health_network(network_id):\n",
    "    \"\"\"\n",
    "    network_id : integer from 1 to 84\n",
    "    \n",
    "    read in the Add Health network corresponding to the given id number and\n",
    "    return it as an undirected networkx object\n",
    "    \"\"\"\n",
    "\n",
    "    # this file was downloaded from\n",
    "    # http://moreno.ss.uci.edu/data.html#adhealth\n",
    "    edge_file = os.path.join(\"../..\", \"data\", \"add-health\", \"comm\" + str(network_id) + \".dat\")\n",
    "    with open(edge_file, 'r') as f:\n",
    "        edge_lines = f.readlines()\n",
    "        \n",
    "    network = nx.parse_edgelist(edge_lines, nodetype=int, data=[('activity_level', float)])\n",
    "    \n",
    "    # note that we call the to_undirected method to ensure we get an undirected network\n",
    "    return(network.to_undirected())\n",
    "\n",
    "number_add_health_networks = 84\n",
    "add_health_networks = [read_add_health_network(x) for x in range(1,number_add_health_networks+1)]"
   ]
  },
  {
   "cell_type": "markdown",
   "metadata": {},
   "source": [
    "As a fist step in the analysis, we will create a helper function to calculate average degree of a network."
   ]
  },
  {
   "cell_type": "code",
   "execution_count": null,
   "metadata": {
    "collapsed": true
   },
   "outputs": [],
   "source": [
    "def average_degree(net):\n",
    "    return(... / ...)"
   ]
  },
  {
   "cell_type": "code",
   "execution_count": null,
   "metadata": {
    "collapsed": true
   },
   "outputs": [],
   "source": [
    "#SOLUTION\n",
    "def average_degree(net):\n",
    "    return(2 * net.number_of_edges() / net.number_of_nodes())"
   ]
  },
  {
   "cell_type": "code",
   "execution_count": null,
   "metadata": {
    "collapsed": true
   },
   "outputs": [],
   "source": [
    "avg_d=average_degree(test_net)\n",
    "print (round(avg_d,2))"
   ]
  },
  {
   "cell_type": "code",
   "execution_count": null,
   "metadata": {
    "collapsed": true
   },
   "outputs": [],
   "source": [
    "_ = hwk_sw.grade('q3')"
   ]
  },
  {
   "cell_type": "markdown",
   "metadata": {},
   "source": [
    "###  Empirical distribution in the Add Health networks"
   ]
  },
  {
   "cell_type": "markdown",
   "metadata": {},
   "source": [
    "First, we'll look at the empirical distribution of clustering and average path length in the Add Health networks."
   ]
  },
  {
   "cell_type": "markdown",
   "metadata": {},
   "source": [
    "**Question 4** Write a loop that goes through each of the 84 Add Health networks and calculates the clustering coefficient and the number of nodes in the network. (Please use the average clustering coefficient, implemented by the `average_clustering` function from the networkx package.) Store the results in a Table called `add_health_clustering` using columns called `num_nodes` and `avg_clustering_coef`."
   ]
  },
  {
   "cell_type": "code",
   "execution_count": null,
   "metadata": {
    "collapsed": true
   },
   "outputs": [],
   "source": [
    "clustering = make_array()\n",
    "num_nodes = make_array()\n",
    "\n",
    "for g in ...:\n",
    "    clustering = np.append(clustering, ...)\n",
    "    num_nodes = np.append(num_nodes, ...)\n",
    "    \n",
    "add_health_clustering = Table().with_columns(['num_nodes', num_nodes,\n",
    "                                              'avg_clustering_coef', clustering])\n",
    "add_health_clustering"
   ]
  },
  {
   "cell_type": "code",
   "execution_count": null,
   "metadata": {
    "collapsed": true
   },
   "outputs": [],
   "source": [
    "#SOLUTION\n",
    "clustering = make_array()\n",
    "num_nodes = make_array()\n",
    "\n",
    "for g in add_health_networks:\n",
    "    clustering = np.append(clustering, nx.average_clustering(g))\n",
    "    num_nodes = np.append(num_nodes, g.number_of_nodes())\n",
    "    \n",
    "add_health_clustering = Table().with_columns(['num_nodes', num_nodes,\n",
    "                                              'avg_clustering_coef', clustering])\n",
    "add_health_clustering"
   ]
  },
  {
   "cell_type": "code",
   "execution_count": null,
   "metadata": {
    "collapsed": true
   },
   "outputs": [],
   "source": [
    "_ = hwk_sw.grade('q4')"
   ]
  },
  {
   "cell_type": "markdown",
   "metadata": {},
   "source": [
    "**Question 5** Plot a histogram showing the distribution of clustering coefficients across the 84 Add Health networks."
   ]
  },
  {
   "cell_type": "code",
   "execution_count": null,
   "metadata": {
    "collapsed": true
   },
   "outputs": [],
   "source": [
    "..."
   ]
  },
  {
   "cell_type": "code",
   "execution_count": null,
   "metadata": {
    "collapsed": true
   },
   "outputs": [],
   "source": [
    "#SOLUTION\n",
    "add_health_clustering.hist('avg_clustering_coef')"
   ]
  },
  {
   "cell_type": "markdown",
   "metadata": {},
   "source": [
    "**Question 6** Make a scatter plot that compares the number of nodes in each network (x axis) to the clustering coefficient (y axis). Does it look like the clustering coefficient changes as the number of nodes does?"
   ]
  },
  {
   "cell_type": "code",
   "execution_count": null,
   "metadata": {
    "collapsed": true
   },
   "outputs": [],
   "source": [
    "..."
   ]
  },
  {
   "cell_type": "markdown",
   "metadata": {},
   "source": [
    "<div class='response'>\n",
    "[Answer here]\n",
    "</div>"
   ]
  },
  {
   "cell_type": "code",
   "execution_count": null,
   "metadata": {
    "collapsed": true
   },
   "outputs": [],
   "source": [
    "#SOLUTION\n",
    "add_health_clustering.scatter('num_nodes', 'avg_clustering_coef')"
   ]
  },
  {
   "cell_type": "markdown",
   "metadata": {},
   "source": [
    "<div class='solution'>\n",
    "Yes: it looks like the average clustering coefficient decreases as the number of nodes increases. This decrease does not look linear: it is very sharp at first, and then it tapers off.\n",
    "</div>"
   ]
  },
  {
   "cell_type": "markdown",
   "metadata": {},
   "source": [
    "###  Average path length of biggest component"
   ]
  },
  {
   "cell_type": "markdown",
   "metadata": {},
   "source": [
    "Remember that it really only makes sense to think about the average path length between two nodes that are in the same component. (Nodes in different components have no path between them.) Since some of the Add Health networks have more than one component, we'll start by picking out only the largest component in each network."
   ]
  },
  {
   "cell_type": "code",
   "execution_count": null,
   "metadata": {
    "collapsed": true
   },
   "outputs": [],
   "source": [
    "def get_biggest_component(network):\n",
    "    biggest = max(nx.connected_component_subgraphs(network), key=len)\n",
    "    return(biggest)\n",
    "\n",
    "add_health_biggest_components = [get_biggest_component(g) for g in add_health_networks]"
   ]
  },
  {
   "cell_type": "markdown",
   "metadata": {},
   "source": [
    "**Question 7** Write a loop that goes through the largest component of each of the 84 Add Health networks and calculates the average shortest path length and the number of nodes in the network. Store the results in a Table called `add_health_sp` using columns called `num_nodes` and `avg_shortest_path`."
   ]
  },
  {
   "cell_type": "code",
   "execution_count": null,
   "metadata": {
    "collapsed": true
   },
   "outputs": [],
   "source": [
    "## NOTE: your code might take a little while\n",
    "##       (~3-5 minutes) to run\n",
    "\n",
    "avg_shortest_path = make_array()\n",
    "num_nodes = make_array()\n",
    "\n",
    "avg_degree = make_array()\n",
    "\n",
    "for c in ...:\n",
    "    avg_shortest_path = np.append(avg_shortest_path, ...)\n",
    "    num_nodes = np.append(num_nodes, ...)\n",
    "    avg_degree = np.append(avg_degree, ...)\n",
    "\n",
    "add_health_sp = Table().with_columns(['num_nodes', num_nodes,\n",
    "                                      'avg_shortest_path', avg_shortest_path,\n",
    "                                      'avg_degree', avg_degree])\n",
    "\n",
    "add_health_sp"
   ]
  },
  {
   "cell_type": "code",
   "execution_count": null,
   "metadata": {
    "collapsed": true
   },
   "outputs": [],
   "source": [
    "#SOLUTION\n",
    "\n",
    "## NOTE: your code might take a little while\n",
    "##       (~3-5 minutes) to run\n",
    "\n",
    "avg_shortest_path = make_array()\n",
    "num_nodes = make_array()\n",
    "\n",
    "avg_degree = make_array()\n",
    "\n",
    "for c in add_health_biggest_components:\n",
    "    avg_shortest_path = np.append(avg_shortest_path, nx.average_shortest_path_length(c))\n",
    "    num_nodes = np.append(num_nodes, c.number_of_nodes())\n",
    "    avg_degree = np.append(avg_degree, average_degree(c))\n",
    "\n",
    "add_health_sp = Table().with_columns(['num_nodes', num_nodes,\n",
    "                                      'avg_shortest_path', avg_shortest_path,\n",
    "                                      'avg_degree', avg_degree])\n",
    "\n",
    "add_health_sp"
   ]
  },
  {
   "cell_type": "code",
   "execution_count": null,
   "metadata": {
    "collapsed": true
   },
   "outputs": [],
   "source": [
    "_ = hwk_sw.grade('q7')"
   ]
  },
  {
   "cell_type": "markdown",
   "metadata": {},
   "source": [
    "**Question 8** Plot a histogram showing the distribution of average shortest path lengths across the 84 Add Health networks' largest components."
   ]
  },
  {
   "cell_type": "code",
   "execution_count": null,
   "metadata": {
    "collapsed": true
   },
   "outputs": [],
   "source": [
    "..."
   ]
  },
  {
   "cell_type": "code",
   "execution_count": null,
   "metadata": {
    "collapsed": true
   },
   "outputs": [],
   "source": [
    "#SOLUTION\n",
    "add_health_sp.hist('avg_shortest_path')"
   ]
  },
  {
   "cell_type": "markdown",
   "metadata": {},
   "source": [
    "**Question 9** Make a scatter plot that compares the number of nodes in each largest component (x axis) to the average shortest path (y axis). Does it look like the average shortest path changes as the number of nodes does?"
   ]
  },
  {
   "cell_type": "code",
   "execution_count": null,
   "metadata": {
    "collapsed": true
   },
   "outputs": [],
   "source": [
    "..."
   ]
  },
  {
   "cell_type": "code",
   "execution_count": null,
   "metadata": {
    "collapsed": true
   },
   "outputs": [],
   "source": [
    "#SOLUTION\n",
    "add_health_sp.scatter('num_nodes', 'avg_shortest_path')"
   ]
  },
  {
   "cell_type": "markdown",
   "metadata": {},
   "source": [
    "<div class='response'>\n",
    "[Answer here]\n",
    "</div>"
   ]
  },
  {
   "cell_type": "markdown",
   "metadata": {},
   "source": [
    "<div class='solution'>\n",
    "It looks like the average shortest path length increases as the number of nodes does. This increase does not look linear: it is very sharp when num_nodes is small. As num_nodes increases, there is more variation so it becomes harder to generalize; however, it looks like the increase in average shortest path length tends to get smaller.\n",
    "</div>"
   ]
  },
  {
   "cell_type": "markdown",
   "metadata": {},
   "source": [
    "### P-values"
   ]
  },
  {
   "cell_type": "markdown",
   "metadata": {},
   "source": [
    "In the introduction to this section, you read that the small world theory suggests that a social network should have a large clustering coefficient and a small average path length. But what do large and small mean? In other words, what should we think about comparing these networks to?\n",
    "\n",
    "We'll use Erdos-Renyi random networks as a null model. Specifically, we're going to\n",
    "\n",
    "* pick one specific Add Health network to test\n",
    "* generate ER networks that 'match' that specific Add Health network\n",
    "* compare the clustering coefficient / average path lengths of the ER networks to the ones we observe in the Add Health network\n"
   ]
  },
  {
   "cell_type": "markdown",
   "metadata": {},
   "source": [
    "Let's pick out one particular Add Health network to focus on for this part."
   ]
  },
  {
   "cell_type": "code",
   "execution_count": null,
   "metadata": {
    "collapsed": true
   },
   "outputs": [],
   "source": [
    "# the specific Add Health network we'll look at\n",
    "ahn = add_health_networks[17]"
   ]
  },
  {
   "cell_type": "markdown",
   "metadata": {},
   "source": [
    "... and let's also use a couple of functions that we created in Lab 3."
   ]
  },
  {
   "cell_type": "code",
   "execution_count": null,
   "metadata": {
    "collapsed": true
   },
   "outputs": [],
   "source": [
    "def er_by_degree(n, avg_degree):\n",
    "    return(nx.erdos_renyi_graph(n=n, p=avg_degree / (n-1)))\n",
    "\n",
    "def rand_er_network(network):\n",
    "    \"\"\"\n",
    "    Return a random network generated from the configuration model using\n",
    "    the degree sequence of the network passed in\n",
    "    \"\"\"\n",
    "    network_n = network.number_of_nodes()\n",
    "    network_dbar = average_degree(network)\n",
    "    return(er_by_degree(network_n, network_dbar))"
   ]
  },
  {
   "cell_type": "markdown",
   "metadata": {},
   "source": [
    "### Developing a simulation from a null model"
   ]
  },
  {
   "cell_type": "markdown",
   "metadata": {},
   "source": [
    "**Question 10** Describe what the function `er_by_degree` does.  \n",
    "*[HINT: You may find Lab 3 helpful to review.]*"
   ]
  },
  {
   "cell_type": "markdown",
   "metadata": {},
   "source": [
    "<div class='response'>\n",
    "[Answer here]\n",
    "</div>"
   ]
  },
  {
   "cell_type": "markdown",
   "metadata": {},
   "source": [
    "<div class='solution'>\n",
    "`er_by_degree` generates an Erdos-Renyi random network with `n` nodes and expected degree of `avg_degree.`\n",
    "</div>"
   ]
  },
  {
   "cell_type": "markdown",
   "metadata": {},
   "source": [
    "**Question 11** Write a function which, given a network, returns its average shortest path length. If the network has more than one component, your function should return the average path length in the biggest component."
   ]
  },
  {
   "cell_type": "code",
   "execution_count": null,
   "metadata": {
    "collapsed": true
   },
   "outputs": [],
   "source": [
    "def avg_path_length(net):\n",
    "    if nx.number_connected_components(net) > 1:\n",
    "        net = ...\n",
    "    return(...)"
   ]
  },
  {
   "cell_type": "code",
   "execution_count": null,
   "metadata": {
    "collapsed": true
   },
   "outputs": [],
   "source": [
    "#SOLUTION\n",
    "def avg_path_length(net):\n",
    "    if nx.number_connected_components(net) > 1:\n",
    "        net = get_biggest_component(net)\n",
    "    return(nx.average_shortest_path_length(net))"
   ]
  },
  {
   "cell_type": "code",
   "execution_count": null,
   "metadata": {
    "collapsed": true
   },
   "outputs": [],
   "source": [
    "_ = hwk_sw.grade('q11')"
   ]
  },
  {
   "cell_type": "markdown",
   "metadata": {},
   "source": [
    "**Question 12** Write a simulation that generates 100 Erdos Renyi random networks that match the Add Health network `ahn`. (By 'match', we mean that the ER network should have the same average degree and number of nodes as the Add Health network `ahn`.). For each generated ER network, calculate the average clustering and use the function you wrote above to calculate the average path length. Store the results in a table called `er_res`."
   ]
  },
  {
   "cell_type": "code",
   "execution_count": null,
   "metadata": {
    "collapsed": true
   },
   "outputs": [],
   "source": [
    "observed_apl = avg_path_length(ahn)\n",
    "observed_cc = nx.average_clustering(ahn)\n",
    "\n",
    "er_cc = make_array()\n",
    "er_apl = make_array()\n",
    "\n",
    "# the underscore (_) means that we don't\n",
    "# care which iteration is which -- we just want\n",
    "# to repeat this 100 times\n",
    "for _ in range(100):\n",
    "    \n",
    "    er_net = ...\n",
    "    er_cc = np.append(er_cc, ...)\n",
    "    er_apl = np.append(er_apl, ...)\n",
    "    \n",
    "er_res = Table().with_columns('cc', er_cc,\n",
    "                              'apl', er_apl)\n",
    "\n",
    "er_res"
   ]
  },
  {
   "cell_type": "code",
   "execution_count": null,
   "metadata": {
    "collapsed": true
   },
   "outputs": [],
   "source": [
    "#SOLUTION\n",
    "observed_apl = avg_path_length(ahn)\n",
    "observed_cc = nx.average_clustering(ahn)\n",
    "\n",
    "er_cc = make_array()\n",
    "er_apl = make_array()\n",
    "\n",
    "# the underscore (_) means that we don't\n",
    "# care which iteration is which -- we just want\n",
    "# to repeat this 100 times\n",
    "for _ in range(100):\n",
    "    \n",
    "    er_net = rand_er_network(ahn)\n",
    "    er_cc = np.append(er_cc, nx.average_clustering(er_net))\n",
    "    er_apl = np.append(er_apl, avg_path_length(er_net))\n",
    "    \n",
    "er_res = Table().with_columns('cc', er_cc,\n",
    "                              'apl', er_apl)\n",
    "\n",
    "er_res"
   ]
  },
  {
   "cell_type": "code",
   "execution_count": null,
   "metadata": {
    "collapsed": true
   },
   "outputs": [],
   "source": [
    "round(np.corrcoef(er_res['cc'], er_res['apl'])[0,1],1)"
   ]
  },
  {
   "cell_type": "code",
   "execution_count": null,
   "metadata": {
    "collapsed": true
   },
   "outputs": [],
   "source": [
    "np.mean(er_res.column(0))"
   ]
  },
  {
   "cell_type": "code",
   "execution_count": null,
   "metadata": {
    "collapsed": true
   },
   "outputs": [],
   "source": [
    "_ = hwk_sw.grade('q12')"
   ]
  },
  {
   "cell_type": "markdown",
   "metadata": {},
   "source": [
    "**Question 13** Now print out the observed average path length in the Add Health network `ahn` and plot a histogram of the average path lengths in the ER networks you just simulated."
   ]
  },
  {
   "cell_type": "code",
   "execution_count": null,
   "metadata": {
    "collapsed": true
   },
   "outputs": [],
   "source": [
    "...\n",
    "..."
   ]
  },
  {
   "cell_type": "code",
   "execution_count": null,
   "metadata": {
    "collapsed": true
   },
   "outputs": [],
   "source": [
    "#SOLUTION\n",
    "print(\"The observed average path length is:\", observed_apl)\n",
    "er_res.hist('apl')"
   ]
  },
  {
   "cell_type": "markdown",
   "metadata": {},
   "source": [
    "**Question 14** Where would the observed Add Health network's statistic fall in the Erdos Renyi networks' distribution?"
   ]
  },
  {
   "cell_type": "markdown",
   "metadata": {},
   "source": [
    "<div class='response'>\n",
    "[Answer here]\n",
    "</div>"
   ]
  },
  {
   "cell_type": "markdown",
   "metadata": {},
   "source": [
    "###  Calculating P values"
   ]
  },
  {
   "cell_type": "markdown",
   "metadata": {},
   "source": [
    "**Note**: Questions 15 and 17 below ask you to calculate a *p* value. The calculation is not especially tricky, but if you want to review *p* values and hypothesis tests in general, you can check out these [slides from Data 8](https://docs.google.com/presentation/d/1SXmBC3B452sW1qerhQ-bjpoR58tmAz100yf6rj2D1iI/edit#slide=id.g210ec578e3_0_0)."
   ]
  },
  {
   "cell_type": "markdown",
   "metadata": {},
   "source": [
    "**Question 15** Now use your results to calculate a $p$ value for the hypothesis that the Add Health network's average path length was generated by the ER model; the alternative hypothesis should be that the Add Health network's average path length is larger than it would be in the ER model.  "
   ]
  },
  {
   "cell_type": "code",
   "execution_count": null,
   "metadata": {
    "collapsed": true
   },
   "outputs": [],
   "source": [
    "emp_p_value_apl=np.mean(...) #fill in the condition corresponding to the alternative hypothesis\n",
    "emp_p_value_apl"
   ]
  },
  {
   "cell_type": "code",
   "execution_count": null,
   "metadata": {
    "collapsed": true
   },
   "outputs": [],
   "source": [
    "#SOLUTION\n",
    "emp_p_value_apl = np.mean(observed_apl >= er_res.column('apl'))\n",
    "emp_p_value_apl"
   ]
  },
  {
   "cell_type": "code",
   "execution_count": null,
   "metadata": {
    "collapsed": true
   },
   "outputs": [],
   "source": [
    "_ = hwk_sw.grade('q15')"
   ]
  },
  {
   "cell_type": "markdown",
   "metadata": {},
   "source": [
    "**Question 16** Now print out the observed average clustering in the Add Health network `ahn` and plot a histogram of the average clusterings in the ER networks you just simulated. Look at where the observed Add Health network's statistic would fall in the ER distribution."
   ]
  },
  {
   "cell_type": "code",
   "execution_count": null,
   "metadata": {
    "collapsed": true
   },
   "outputs": [],
   "source": [
    "...\n",
    "..."
   ]
  },
  {
   "cell_type": "code",
   "execution_count": null,
   "metadata": {
    "collapsed": true
   },
   "outputs": [],
   "source": [
    "#SOLUTION\n",
    "print(\"Observed average clustering coefficient:\", observed_cc)\n",
    "er_res.hist('cc')"
   ]
  },
  {
   "cell_type": "markdown",
   "metadata": {},
   "source": [
    "**Question 17** Now use your results to calculate a $p$ value for the hypothesis that the Add Health network's average clustering was generated by the ER model; the alternative hypothesis should be that the Add Health network's average clustering is less than it would be in the ER model."
   ]
  },
  {
   "cell_type": "code",
   "execution_count": null,
   "metadata": {
    "collapsed": true
   },
   "outputs": [],
   "source": [
    "emp_p_value_cc = np.mean(...) #fill in the condition corresponding to the alternative hypothesis\n",
    "emp_p_value_cc"
   ]
  },
  {
   "cell_type": "code",
   "execution_count": null,
   "metadata": {
    "collapsed": true
   },
   "outputs": [],
   "source": [
    "#SOLUTION\n",
    "emp_p_value_cc = np.mean(observed_cc <= er_res.column('cc'))\n",
    "emp_p_value_cc"
   ]
  },
  {
   "cell_type": "code",
   "execution_count": null,
   "metadata": {
    "collapsed": true
   },
   "outputs": [],
   "source": [
    "_ = hwk_sw.grade('q17')"
   ]
  },
  {
   "cell_type": "markdown",
   "metadata": {},
   "source": [
    "**Question 18** What do these two $p$ values lead you to conclude about the agreement between the ER model and the small world hypothesis (at least, using information from the Add Health network)?"
   ]
  },
  {
   "cell_type": "markdown",
   "metadata": {},
   "source": [
    "<div class='response'>\n",
    "[Answer here]\n",
    "</div>"
   ]
  },
  {
   "cell_type": "markdown",
   "metadata": {},
   "source": [
    "<div class='solution'>\n",
    "The first $p$ value suggests that the average path length observed in the Add Health network is at least as big as the average path length implied by the ER model.  \n",
    "The second $p$ value suggests that the observed clustering in the Add Health network is higher than the average clustering implied by the ER model.\n",
    "</div>"
   ]
  },
  {
   "cell_type": "markdown",
   "metadata": {},
   "source": [
    "# SUBMIT YOUR ASSIGNMENT\n",
    "\n",
    "In order to submit your assignment, run the next cell.\n",
    "\n",
    "You can submit as many times as you want (up to the deadline)."
   ]
  },
  {
   "cell_type": "code",
   "execution_count": null,
   "metadata": {
    "collapsed": true
   },
   "outputs": [],
   "source": [
    "_ = hwk_sw.submit()"
   ]
  }
 ],
 "metadata": {
  "anaconda-cloud": {},
  "kernelspec": {
   "display_name": "Python [default]",
   "language": "python",
   "name": "python3"
  },
  "language_info": {
   "codemirror_mode": {
    "name": "ipython",
    "version": 3
   },
   "file_extension": ".py",
   "mimetype": "text/x-python",
   "name": "python",
   "nbconvert_exporter": "python",
   "pygments_lexer": "ipython3",
   "version": "3.5.2"
  }
 },
 "nbformat": 4,
 "nbformat_minor": 1
}
