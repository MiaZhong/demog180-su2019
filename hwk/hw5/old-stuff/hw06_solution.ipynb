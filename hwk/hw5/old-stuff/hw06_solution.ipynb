{
 "cells": [
  {
   "cell_type": "code",
   "execution_count": 3,
   "metadata": {},
   "outputs": [],
   "source": [
    "from IPython.core.display import HTML\n",
    "from datascience import *\n",
    "\n",
    "import matplotlib\n",
    "matplotlib.use('Agg')\n",
    "%matplotlib inline\n",
    "import matplotlib.pyplot as plt\n",
    "import numpy as np\n",
    "import os\n",
    "plt.style.use('fivethirtyeight')\n",
    "\n",
    "import networkx as nx"
   ]
  },
  {
   "cell_type": "markdown",
   "metadata": {
    "collapsed": true
   },
   "source": [
    "# Homework 04: The friendship paradox"
   ]
  },
  {
   "cell_type": "markdown",
   "metadata": {},
   "source": [
    "## Why your friends (probably) have more friends than you do"
   ]
  },
  {
   "cell_type": "markdown",
   "metadata": {},
   "source": [
    "Please read this short article:\n",
    "\n",
    "[Friends you can count on](https://opinionator.blogs.nytimes.com/2012/09/17/friends-you-can-count-on/) by Steve Strogatz  \n",
    "\n",
    "And answer a couple of short questions about it.\n",
    "\n",
    "If you are really curious, you can also optionally look at the original paper that discussed the friendship paradox (and which was the inspiration for this homework's title):\n",
    "\n",
    "[Why your friends have more friends than you do](http://www.journals.uchicago.edu/doi/abs/10.1086/229693) by Scott Feld [OPTIONAL BACKGROUND]"
   ]
  },
  {
   "cell_type": "markdown",
   "metadata": {
    "collapsed": true
   },
   "source": [
    "**Question 1** According to Strogatz, why do people experience airplanes, restaurants, parks, and beaches to be more crowded than averages would suggest?  \n",
    "*[Please answer in one or two sentences]*\n",
    "\n",
    "```\n",
    "BEGIN QUESTION\n",
    "name: q1\n",
    "manual: true\n",
    "```"
   ]
  },
  {
   "cell_type": "markdown",
   "metadata": {},
   "source": [
    "**SOLUTION**: Because more people experience these things when they are crowded. So if an airplane flies 2 days, and on one day it carries 100 passengers and on the second day it carries 10 passengers, then 100 people experience the airplane as crowded and 10 people experience the airplane as not crowded."
   ]
  },
  {
   "cell_type": "markdown",
   "metadata": {},
   "source": [
    "**Question 2a** Which two groups did Christakis and Fowler monitor to see who got the flu first? Which group ended up actually getting the flu first?  \n",
    "*[Please answer in one or two sentences]*\n",
    "\n",
    "```\n",
    "BEGIN QUESTION\n",
    "name: q2a\n",
    "manual: True\n",
    "```"
   ]
  },
  {
   "cell_type": "markdown",
   "metadata": {},
   "source": [
    "**SOLUTION**: The two groups were (i) randomly picked students; and (ii) friends of the randomly picked students"
   ]
  },
  {
   "cell_type": "markdown",
   "metadata": {},
   "source": [
    "**Question 2b** Which two groups did Christakis and Fowler monitor to see who got the flu first? Which group ended up actually getting the flu first?  \n",
    "*[Please answer in one or two sentences]*\n",
    "\n",
    "```\n",
    "BEGIN QUESTION\n",
    "name: q2b\n",
    "manual: True\n",
    "```"
   ]
  },
  {
   "cell_type": "markdown",
   "metadata": {},
   "source": [
    "**SOLUTION**: The friends of the randomly picked students got the flu first."
   ]
  },
  {
   "cell_type": "markdown",
   "metadata": {},
   "source": [
    "## Testing the friendship paradox"
   ]
  },
  {
   "cell_type": "markdown",
   "metadata": {},
   "source": [
    "In this homework, we're going to see if the friendship paradox seems to hold for the networks from the Add Health study."
   ]
  },
  {
   "cell_type": "markdown",
   "metadata": {},
   "source": [
    "#### Read in Add Health networks"
   ]
  },
  {
   "cell_type": "markdown",
   "metadata": {},
   "source": [
    " We'll start by loading the Add Health networks into memory, as we have done in lab. This function will help."
   ]
  },
  {
   "cell_type": "code",
   "execution_count": 1,
   "metadata": {},
   "outputs": [],
   "source": [
    "def read_add_health_network(network_id):\n",
    "    \"\"\"\n",
    "    network_id : integer from 1 to 84\n",
    "    \n",
    "    read in the Add Health network corresponding to the given id number and\n",
    "    return it as an undirected networkx object\n",
    "    \"\"\"\n",
    "\n",
    "    # this file was downloaded from\n",
    "    # http://moreno.ss.uci.edu/data.html#adhealth\n",
    "    edge_file = os.path.join(\"../..\", \"data\", \"add-health\", \"comm\" + str(network_id) + \".dat\")\n",
    "    with open(edge_file, 'r') as f:\n",
    "        edge_lines = f.readlines()\n",
    "        \n",
    "    network = nx.parse_edgelist(edge_lines, nodetype=int, data=[('activity_level', float)])\n",
    "    \n",
    "    # note that we call the to_undirected method to ensure we get an undirected network\n",
    "    return(network.to_undirected())"
   ]
  },
  {
   "cell_type": "markdown",
   "metadata": {},
   "source": [
    "Now let's use `read_add_health_network` to actually read in all 84 of the Add Health school networks:"
   ]
  },
  {
   "cell_type": "code",
   "execution_count": 4,
   "metadata": {},
   "outputs": [],
   "source": [
    "number_add_health_networks = 84\n",
    "add_health_networks = [read_add_health_network(x) for x in range(1,number_add_health_networks+1)]"
   ]
  },
  {
   "cell_type": "markdown",
   "metadata": {},
   "source": [
    "## Examining the friendship paradox in one network"
   ]
  },
  {
   "cell_type": "markdown",
   "metadata": {},
   "source": [
    "We'll start by focusing on one specific network from the Add Health dataset. We'll develop some code using this one network. Later on, we'll generalize our results to all of the networks."
   ]
  },
  {
   "cell_type": "code",
   "execution_count": 5,
   "metadata": {},
   "outputs": [],
   "source": [
    "one_network = add_health_networks[0]"
   ]
  },
  {
   "cell_type": "markdown",
   "metadata": {},
   "source": [
    "**Question 3** Make a table that has two columns: one with the id of each node, and another with the degree of each node.\n",
    "\n",
    "```\n",
    "BEGIN QUESTION\n",
    "name: q3\n",
    "manual: false\n",
    "points: 2\n",
    "```"
   ]
  },
  {
   "cell_type": "code",
   "execution_count": 14,
   "metadata": {},
   "outputs": [
    {
     "data": {
      "text/html": [
       "<table border=\"1\" class=\"dataframe\">\n",
       "    <thead>\n",
       "        <tr>\n",
       "            <th>id</th> <th>degree</th>\n",
       "        </tr>\n",
       "    </thead>\n",
       "    <tbody>\n",
       "        <tr>\n",
       "            <td>1   </td> <td>3     </td>\n",
       "        </tr>\n",
       "        <tr>\n",
       "            <td>52  </td> <td>7     </td>\n",
       "        </tr>\n",
       "        <tr>\n",
       "            <td>2   </td> <td>9     </td>\n",
       "        </tr>\n",
       "        <tr>\n",
       "            <td>20  </td> <td>9     </td>\n",
       "        </tr>\n",
       "        <tr>\n",
       "            <td>27  </td> <td>8     </td>\n",
       "        </tr>\n",
       "        <tr>\n",
       "            <td>33  </td> <td>12    </td>\n",
       "        </tr>\n",
       "        <tr>\n",
       "            <td>45  </td> <td>5     </td>\n",
       "        </tr>\n",
       "        <tr>\n",
       "            <td>46  </td> <td>8     </td>\n",
       "        </tr>\n",
       "        <tr>\n",
       "            <td>57  </td> <td>2     </td>\n",
       "        </tr>\n",
       "        <tr>\n",
       "            <td>59  </td> <td>5     </td>\n",
       "        </tr>\n",
       "    </tbody>\n",
       "</table>\n",
       "<p>... (59 rows omitted)</p>"
      ],
      "text/plain": [
       "id   | degree\n",
       "1    | 3\n",
       "52   | 7\n",
       "2    | 9\n",
       "20   | 9\n",
       "27   | 8\n",
       "33   | 12\n",
       "45   | 5\n",
       "46   | 8\n",
       "57   | 2\n",
       "59   | 5\n",
       "... (59 rows omitted)"
      ]
     },
     "execution_count": 14,
     "metadata": {},
     "output_type": "execute_result"
    }
   ],
   "source": [
    "degree_data = Table().with_columns([\n",
    "    # BEGIN SOLUTION NO PROMPT\n",
    "    'id', one_network.nodes(),\n",
    "    'degree', [y for x,y in one_network.degree(one_network.nodes())]\n",
    "    ])\n",
    "    # END SOLUTION\n",
    "\"\"\" # BEGIN PROMPT\n",
    "    'id', ...,\n",
    "    'degree', ...\n",
    "    ])\n",
    "\"\"\"; # END PROMPT\n",
    "\n",
    "degree_data"
   ]
  },
  {
   "cell_type": "code",
   "execution_count": 16,
   "metadata": {},
   "outputs": [
    {
     "data": {
      "text/plain": [
       "6.38"
      ]
     },
     "execution_count": 16,
     "metadata": {},
     "output_type": "execute_result"
    }
   ],
   "source": [
    "# TEST\n",
    "round(np.mean(degree_data['degree']),2)"
   ]
  },
  {
   "cell_type": "code",
   "execution_count": 17,
   "metadata": {},
   "outputs": [
    {
     "data": {
      "text/plain": [
       "True"
      ]
     },
     "execution_count": 17,
     "metadata": {},
     "output_type": "execute_result"
    }
   ],
   "source": [
    "# TEST\n",
    "round(np.sum(degree_data['degree'])) == 440"
   ]
  },
  {
   "cell_type": "markdown",
   "metadata": {},
   "source": [
    "Now let's work on figuring out how to get the average degree of the neighbors of a single node."
   ]
  },
  {
   "cell_type": "code",
   "execution_count": 18,
   "metadata": {},
   "outputs": [
    {
     "data": {
      "text/plain": [
       "1"
      ]
     },
     "execution_count": 18,
     "metadata": {},
     "output_type": "execute_result"
    }
   ],
   "source": [
    "one_node = list(one_network.nodes())[0]\n",
    "one_node"
   ]
  },
  {
   "cell_type": "markdown",
   "metadata": {},
   "source": [
    "This bit of code will show `one_node` and some of the nodes around it:\n",
    "\n",
    "* `one_node` itself has id 1\n",
    "* the *neighbors* of `one_node` have ids 36, 37, and 52\n",
    "* the neighbors of `one_node`'s neighbors (which help you see the degree of each of `one_node`'s neighbors)\n",
    "\n",
    "NOTE: this code uses some features of the `networkx` library that we aren't going to talk about in this class. So you don't have to understand exactly how it works (though that would be a good challenge if you want one)."
   ]
  },
  {
   "cell_type": "code",
   "execution_count": 19,
   "metadata": {},
   "outputs": [
    {
     "name": "stderr",
     "output_type": "stream",
     "text": [
      "/anaconda3/lib/python3.7/site-packages/networkx/drawing/nx_pylab.py:611: MatplotlibDeprecationWarning: isinstance(..., numbers.Number)\n",
      "  if cb.is_numlike(alpha):\n"
     ]
    },
    {
     "data": {
      "image/png": "[encoded data removed]",
      "text/plain": [
       "<Figure size 432x288 with 1 Axes>"
      ]
     },
     "metadata": {},
     "output_type": "display_data"
    }
   ],
   "source": [
    "nx.draw(one_network.subgraph(list(nx.single_source_shortest_path_length(one_network, one_node, cutoff=2).keys())),\n",
    "        with_labels=True)"
   ]
  },
  {
   "cell_type": "markdown",
   "metadata": {},
   "source": [
    "The `neighbors()` method will return the set of nodes that are adjacent to `one_node`:"
   ]
  },
  {
   "cell_type": "code",
   "execution_count": 20,
   "metadata": {},
   "outputs": [
    {
     "data": {
      "text/plain": [
       "[52, 36, 37]"
      ]
     },
     "execution_count": 20,
     "metadata": {},
     "output_type": "execute_result"
    }
   ],
   "source": [
    "[y for y in one_network.neighbors(one_node)]"
   ]
  },
  {
   "cell_type": "markdown",
   "metadata": {},
   "source": [
    "Also, you can get the degree of a specific node using the `degree` method:"
   ]
  },
  {
   "cell_type": "code",
   "execution_count": 21,
   "metadata": {},
   "outputs": [
    {
     "data": {
      "text/plain": [
       "3"
      ]
     },
     "execution_count": 21,
     "metadata": {},
     "output_type": "execute_result"
    }
   ],
   "source": [
    "one_network.degree(one_node)"
   ]
  },
  {
   "cell_type": "markdown",
   "metadata": {},
   "source": [
    "As we can see from the drawing above, one_node has degree 3."
   ]
  },
  {
   "cell_type": "markdown",
   "metadata": {},
   "source": [
    "You can use these facts to help answer the next question."
   ]
  },
  {
   "cell_type": "markdown",
   "metadata": {},
   "source": [
    "**Question 4** The code below should calculate the average degree of `one_node`'s neighbors. Fill in the missing parts.\n",
    "\n",
    "```\n",
    "BEGIN QUESTION\n",
    "name: q4\n",
    "manual: false\n",
    "points: 4\n",
    "```"
   ]
  },
  {
   "cell_type": "code",
   "execution_count": 22,
   "metadata": {},
   "outputs": [
    {
     "name": "stdout",
     "output_type": "stream",
     "text": [
      "average degree of neighbors is  7.333333333333333\n"
     ]
    }
   ],
   "source": [
    "one_node_neighbors = one_network.neighbors(one_node)\n",
    "\n",
    "nbr_degree_total = 0\n",
    "num_nbrs = 0\n",
    "\n",
    "# BEGIN SOLUTION NO PROMPT\n",
    "for nbr in one_node_neighbors:\n",
    "    nbr_degree_total = nbr_degree_total + one_network.degree(nbr)\n",
    "    num_nbrs = num_nbrs + 1\n",
    "\n",
    "result = nbr_degree_total / num_nbrs\n",
    "# END SOLUTION\n",
    "\"\"\" # BEGIN PROMPT\n",
    "for nbr in ...:\n",
    "    nbr_degree_total = nbr_degree_total + ...\n",
    "    num_nbrs = num_nbrs + 1\n",
    "\n",
    "result = ... / ...\n",
    "\"\"\" # END PROMPT\n",
    "\n",
    "print(\"average degree of neighbors is \", result)"
   ]
  },
  {
   "cell_type": "code",
   "execution_count": 23,
   "metadata": {},
   "outputs": [
    {
     "data": {
      "text/plain": [
       "7.33"
      ]
     },
     "execution_count": 23,
     "metadata": {},
     "output_type": "execute_result"
    }
   ],
   "source": [
    "# TEST\n",
    "round(result,2) "
   ]
  },
  {
   "cell_type": "code",
   "execution_count": 24,
   "metadata": {},
   "outputs": [
    {
     "data": {
      "text/plain": [
       "22"
      ]
     },
     "execution_count": 24,
     "metadata": {},
     "output_type": "execute_result"
    }
   ],
   "source": [
    "# TEST\n",
    "round(nbr_degree_total)"
   ]
  },
  {
   "cell_type": "markdown",
   "metadata": {},
   "source": [
    "Now let's generalize the code you just wrote by turning it into a function. This will allow you to easily calculate the average degree of the neighbors of any node you want."
   ]
  },
  {
   "cell_type": "markdown",
   "metadata": {},
   "source": [
    "**Question 5** Fill in the code below to create a function that, given any network `g` and node `node`, will return the average degree of the node's neighbors.\n",
    "\n",
    "```\n",
    "BEGIN QUESTION\n",
    "name: q5\n",
    "manual: false\n",
    "points: 4\n",
    "```"
   ]
  },
  {
   "cell_type": "code",
   "execution_count": 25,
   "metadata": {},
   "outputs": [],
   "source": [
    "def get_average_degree_of_neighbors(g, node):\n",
    "    \"\"\"Given a network and a node, compute the average degree of the node's neighbors.\n",
    "    \n",
    "    Parameters\n",
    "    ----------\n",
    "    g : networkx Graph object\n",
    "        The network that node is a member of\n",
    "    node : networkx node (actually just an integer)\n",
    "        The node\n",
    "    \n",
    "    Returns\n",
    "    -------\n",
    "    float\n",
    "        The average degree of the neighbors of node\n",
    "    \n",
    "    \"\"\"\n",
    "    \n",
    "    # BEGIN SOLUTION NO PROMPT\n",
    "    ## get the nodes that are the neighbors of node\n",
    "    node_neighbors = g.neighbors(node)\n",
    "    \n",
    "    nbr_degree_total = 0\n",
    "    num_nbrs = 0\n",
    "    \n",
    "    ## get the degrees of each of those nodes\n",
    "    for nbr in node_neighbors:\n",
    "        nbr_degree_total = nbr_degree_total + g.degree(nbr)\n",
    "        num_nbrs = num_nbrs + 1\n",
    "        \n",
    "    ## calculate the average\n",
    "    avg_nbr_degree = nbr_degree_total / num_nbrs\n",
    "    # END SOLUTION\n",
    "    \"\"\" # BEGIN PROMPT\n",
    "    ## get the nodes that are the neighbors of node\n",
    "    node_neighbors = ...\n",
    "    \n",
    "    nbr_degree_total = 0\n",
    "    num_nbrs = 0\n",
    "    \n",
    "    ## get the degrees of each of those nodes\n",
    "    for nbr in node_neighbors:\n",
    "        nbr_degree_total = nbr_degree_total + ...\n",
    "        num_nbrs = num_nbrs + 1\n",
    "        \n",
    "    ## calculate the average\n",
    "    avg_nbr_degree = ... / ...    \n",
    "    \"\"\" # END PROMPT\n",
    "    \n",
    "    ## return it\n",
    "    return(avg_nbr_degree)"
   ]
  },
  {
   "cell_type": "code",
   "execution_count": 28,
   "metadata": {},
   "outputs": [
    {
     "data": {
      "text/plain": [
       "9.25"
      ]
     },
     "execution_count": 28,
     "metadata": {},
     "output_type": "execute_result"
    }
   ],
   "source": [
    "# TEST\n",
    "get_average_degree_of_neighbors(one_network, 3)"
   ]
  },
  {
   "cell_type": "code",
   "execution_count": 29,
   "metadata": {},
   "outputs": [
    {
     "data": {
      "text/plain": [
       "7.25"
      ]
     },
     "execution_count": 29,
     "metadata": {},
     "output_type": "execute_result"
    }
   ],
   "source": [
    "# TEST\n",
    "get_average_degree_of_neighbors(one_network, 10)"
   ]
  },
  {
   "cell_type": "markdown",
   "metadata": {},
   "source": [
    "**Question 6** Now use the function you wrote to calculate the average of the neighbors' degrees for every node in `one_network`.\n",
    "\n",
    "```\n",
    "BEGIN QUESTION\n",
    "name: q6\n",
    "manual: false\n",
    "points: 3\n",
    "```"
   ]
  },
  {
   "cell_type": "code",
   "execution_count": 30,
   "metadata": {},
   "outputs": [
    {
     "data": {
      "text/html": [
       "<table border=\"1\" class=\"dataframe\">\n",
       "    <thead>\n",
       "        <tr>\n",
       "            <th>id</th> <th>avg_friends_degree</th>\n",
       "        </tr>\n",
       "    </thead>\n",
       "    <tbody>\n",
       "        <tr>\n",
       "            <td>1   </td> <td>7.33333           </td>\n",
       "        </tr>\n",
       "        <tr>\n",
       "            <td>52  </td> <td>6.57143           </td>\n",
       "        </tr>\n",
       "        <tr>\n",
       "            <td>2   </td> <td>6.66667           </td>\n",
       "        </tr>\n",
       "        <tr>\n",
       "            <td>20  </td> <td>7.77778           </td>\n",
       "        </tr>\n",
       "        <tr>\n",
       "            <td>27  </td> <td>6.625             </td>\n",
       "        </tr>\n",
       "        <tr>\n",
       "            <td>33  </td> <td>7.08333           </td>\n",
       "        </tr>\n",
       "        <tr>\n",
       "            <td>45  </td> <td>7                 </td>\n",
       "        </tr>\n",
       "        <tr>\n",
       "            <td>46  </td> <td>8                 </td>\n",
       "        </tr>\n",
       "        <tr>\n",
       "            <td>57  </td> <td>10.5              </td>\n",
       "        </tr>\n",
       "        <tr>\n",
       "            <td>59  </td> <td>9.4               </td>\n",
       "        </tr>\n",
       "    </tbody>\n",
       "</table>\n",
       "<p>... (59 rows omitted)</p>"
      ],
      "text/plain": [
       "id   | avg_friends_degree\n",
       "1    | 7.33333\n",
       "52   | 6.57143\n",
       "2    | 6.66667\n",
       "20   | 7.77778\n",
       "27   | 6.625\n",
       "33   | 7.08333\n",
       "45   | 7\n",
       "46   | 8\n",
       "57   | 10.5\n",
       "59   | 9.4\n",
       "... (59 rows omitted)"
      ]
     },
     "execution_count": 30,
     "metadata": {},
     "output_type": "execute_result"
    }
   ],
   "source": [
    "avg_friends_degree = make_array()\n",
    "\n",
    "# BEGIN SOLUTION NO PROMPT\n",
    "for node in one_network.nodes():\n",
    "    avg_friends_degree = np.append(avg_friends_degree, \n",
    "                                   get_average_degree_of_neighbors(one_network, node))\n",
    "\n",
    "nbr_avg_degrees = Table().with_columns([\n",
    "    'id', one_network.nodes(),\n",
    "    'avg_friends_degree', avg_friends_degree\n",
    "])\n",
    "# END SOLUTION\n",
    "\"\"\" # BEGIN PROMPT\n",
    "for node in ...:\n",
    "    avg_friends_degree = np.append(avg_friends_degree, ...)\n",
    "\n",
    "nbr_avg_degrees = Table().with_columns([\n",
    "    'id', ...,\n",
    "    'avg_friends_degree', ...\n",
    "])\n",
    "\"\"\" # END PROMPT\n",
    "\n",
    "nbr_avg_degrees"
   ]
  },
  {
   "cell_type": "code",
   "execution_count": 31,
   "metadata": {},
   "outputs": [
    {
     "data": {
      "text/plain": [
       "7.71"
      ]
     },
     "execution_count": 31,
     "metadata": {},
     "output_type": "execute_result"
    }
   ],
   "source": [
    "# TEST\n",
    "np.round(np.mean(nbr_avg_degrees['avg_friends_degree']), 2)"
   ]
  },
  {
   "cell_type": "code",
   "execution_count": 32,
   "metadata": {},
   "outputs": [
    {
     "data": {
      "text/plain": [
       "True"
      ]
     },
     "execution_count": 32,
     "metadata": {},
     "output_type": "execute_result"
    }
   ],
   "source": [
    "# TEST\n",
    "round(nbr_avg_degrees.where(nbr_avg_degrees['id'] == 6)['avg_friends_degree'][0], 2) == 5.4"
   ]
  },
  {
   "cell_type": "markdown",
   "metadata": {},
   "source": [
    "**Question 7** Now you have created a table `degree_data` which has (node id, node degree) and a second table `nbr_avg_degrees` that has (node id, average of friends' degrees). Join these two tables together so that you have a Table with (node id, node degree, average of friends' degrees); call the resulting Table `friend_data`.\n",
    "\n",
    "```\n",
    "BEGIN QUESTION\n",
    "name: q7\n",
    "points: 1\n",
    "manual: false\n",
    "```"
   ]
  },
  {
   "cell_type": "code",
   "execution_count": 33,
   "metadata": {},
   "outputs": [
    {
     "data": {
      "text/html": [
       "<table border=\"1\" class=\"dataframe\">\n",
       "    <thead>\n",
       "        <tr>\n",
       "            <th>id</th> <th>degree</th> <th>avg_friends_degree</th>\n",
       "        </tr>\n",
       "    </thead>\n",
       "    <tbody>\n",
       "        <tr>\n",
       "            <td>1   </td> <td>3     </td> <td>7.33333           </td>\n",
       "        </tr>\n",
       "        <tr>\n",
       "            <td>2   </td> <td>9     </td> <td>6.66667           </td>\n",
       "        </tr>\n",
       "        <tr>\n",
       "            <td>3   </td> <td>4     </td> <td>9.25              </td>\n",
       "        </tr>\n",
       "        <tr>\n",
       "            <td>5   </td> <td>4     </td> <td>7.75              </td>\n",
       "        </tr>\n",
       "        <tr>\n",
       "            <td>6   </td> <td>5     </td> <td>5.4               </td>\n",
       "        </tr>\n",
       "        <tr>\n",
       "            <td>7   </td> <td>7     </td> <td>6.85714           </td>\n",
       "        </tr>\n",
       "        <tr>\n",
       "            <td>8   </td> <td>10    </td> <td>7.8               </td>\n",
       "        </tr>\n",
       "        <tr>\n",
       "            <td>9   </td> <td>9     </td> <td>7.33333           </td>\n",
       "        </tr>\n",
       "        <tr>\n",
       "            <td>10  </td> <td>4     </td> <td>7.25              </td>\n",
       "        </tr>\n",
       "        <tr>\n",
       "            <td>11  </td> <td>3     </td> <td>6.33333           </td>\n",
       "        </tr>\n",
       "    </tbody>\n",
       "</table>\n",
       "<p>... (59 rows omitted)</p>"
      ],
      "text/plain": [
       "id   | degree | avg_friends_degree\n",
       "1    | 3      | 7.33333\n",
       "2    | 9      | 6.66667\n",
       "3    | 4      | 9.25\n",
       "5    | 4      | 7.75\n",
       "6    | 5      | 5.4\n",
       "7    | 7      | 6.85714\n",
       "8    | 10     | 7.8\n",
       "9    | 9      | 7.33333\n",
       "10   | 4      | 7.25\n",
       "11   | 3      | 6.33333\n",
       "... (59 rows omitted)"
      ]
     },
     "execution_count": 33,
     "metadata": {},
     "output_type": "execute_result"
    }
   ],
   "source": [
    "# BEGIN SOLUTION NO PROMPT\n",
    "friend_data = degree_data.join('id', nbr_avg_degrees)\n",
    "# END SOLUTION\n",
    "\"\"\" # BEGIN PROMPT\n",
    "friend_data = ....join('id', ...)\n",
    "\"\"\" # END PROMPT\n",
    "\n",
    "friend_data"
   ]
  },
  {
   "cell_type": "code",
   "execution_count": 38,
   "metadata": {},
   "outputs": [
    {
     "data": {
      "text/plain": [
       "6.38"
      ]
     },
     "execution_count": 38,
     "metadata": {},
     "output_type": "execute_result"
    }
   ],
   "source": [
    "# TEST\n",
    "np.round(np.mean(friend_data['degree']), 2)"
   ]
  },
  {
   "cell_type": "code",
   "execution_count": 42,
   "metadata": {},
   "outputs": [
    {
     "data": {
      "text/plain": [
       "True"
      ]
     },
     "execution_count": 42,
     "metadata": {},
     "output_type": "execute_result"
    }
   ],
   "source": [
    "# TEST\n",
    "round(friend_data.where(friend_data['id'] == 6)['degree'][0], 2) == 5"
   ]
  },
  {
   "cell_type": "markdown",
   "metadata": {},
   "source": [
    "**Question 8** What does the friendship paradox predict about the values in the 'degree' and 'avg_friends_degree' column of the `friend_data` Table that you just made? Does it say that (i) on average, they should be about the same; (ii) on average, `degree` should be bigger than `avg_friends_degree`; or (iii) on average, `avg_friends_degree` should be bigger than `degree`?\n",
    "\n",
    "```\n",
    "BEGIN QUESTION\n",
    "name: q8\n",
    "points: 4\n",
    "manual: True\n",
    "```"
   ]
  },
  {
   "cell_type": "markdown",
   "metadata": {},
   "source": [
    "**SOLUTION:** (iii) on average, `avg_friends_degree` should be bigger than `degree`."
   ]
  },
  {
   "cell_type": "markdown",
   "metadata": {},
   "source": [
    "**Question 9** Now make a scatter plot that shows at the relationship between the degree of each node (x axis) and the average degree of the node's friends (y axis).\n",
    "\n",
    "```\n",
    "BEGIN QUESTION\n",
    "name: q9\n",
    "points: 2\n",
    "manual: True\n",
    "```"
   ]
  },
  {
   "cell_type": "code",
   "execution_count": 43,
   "metadata": {},
   "outputs": [
    {
     "data": {
      "image/png": "[encoded data removed]",
      "text/plain": [
       "<Figure size 360x360 with 1 Axes>"
      ]
     },
     "metadata": {},
     "output_type": "display_data"
    }
   ],
   "source": [
    "# BEGIN SOLUTION\n",
    "friend_data.scatter('degree', 'avg_friends_degree')\n",
    "# END SOLUTION"
   ]
  },
  {
   "cell_type": "markdown",
   "metadata": {},
   "source": [
    "**Question 10** Does the plot you just made seem consistent with what would be predicted from the friendship paradox?\n",
    "\n",
    "```\n",
    "BEGIN QUESTION\n",
    "name: q10\n",
    "manual: True\n",
    "```"
   ]
  },
  {
   "cell_type": "markdown",
   "metadata": {},
   "source": [
    "**SOLUTION:** Yes, it does: many of the points lie above the $y=x$ line, meaning that `avg_friends_degree` is bigger than `degree`.   NOTE: you could argue that this result is unclear and receive full credit if you give a good reason (we aren't doing a formal test, so there is no proof one way or another)."
   ]
  },
  {
   "cell_type": "markdown",
   "metadata": {},
   "source": [
    "## The friendship paradox across all of the Add Health networks"
   ]
  },
  {
   "cell_type": "markdown",
   "metadata": {},
   "source": [
    "#### Write a function that calculates the fraction of nodes whose degree is less than the average of their neighbors."
   ]
  },
  {
   "cell_type": "markdown",
   "metadata": {},
   "source": [
    "The plot you just made investigated the friendship paradox by looking at every single node in one network. Now we are going to try to look at all of the different networks in the Add Health study.\n",
    "\n",
    "One way to do so would be to look at every single node across all of the networks in the Add Health study. However, we're going to try a different approach: we're going to develop a metric that can be calculated once for every network, and then we'll compare that metric across the different networks in the Add Health study.\n",
    "\n",
    "The metric we'll look at is the fraction of nodes in the network whose degree is smaller than the average of its friends' degrees. Intuitively, when this metric is high, then many nodes in the network experience the friendship paradox (because they have fewer friends than the average of their friends)."
   ]
  },
  {
   "cell_type": "markdown",
   "metadata": {},
   "source": [
    "**Question 11** The function below should take a network and calculate the fraction of the nodes in the network that have degree smaller than the average of its friends' degrees. Fill in the missing parts. (This function should make use of the work you did above.)\n",
    "\n",
    "```\n",
    "BEGIN QUESTION\n",
    "name: q11\n",
    "manual: false\n",
    "points: 2\n",
    "```"
   ]
  },
  {
   "cell_type": "code",
   "execution_count": 44,
   "metadata": {},
   "outputs": [],
   "source": [
    "def frac_degree_lt_neighbors(g):\n",
    "    degree = make_array()\n",
    "    avg_friends_degree = make_array()\n",
    "    \n",
    "    # BEGIN SOLUTION NO PROMPT\n",
    "    for node in g.nodes():\n",
    "        degree = np.append(degree, g.degree(node))\n",
    "        avg_friends_degree = np.append(avg_friends_degree, get_average_degree_of_neighbors(g, node))\n",
    "\n",
    "    # calculate the fraction of nodes whose degree is smaller than the average of\n",
    "    # their friends' degrees and return it\n",
    "    return(np.mean(degree < avg_friends_degree))\n",
    "    # END SOLUTION\n",
    "    \"\"\" # BEGIN PROMPT\n",
    "    for node in g.nodes():\n",
    "        degree = np.append(degree, ...)\n",
    "        avg_friends_degree = np.append(avg_friends_degree, ...)\n",
    "\n",
    "    # calculate the fraction of nodes whose degree is smaller than the average of\n",
    "    # their friends' degrees and return it\n",
    "    # (HINT: you should fill in a boolean expression here)\n",
    "    return(np.mean(...))    \n",
    "    \"\"\" # END PROMPT"
   ]
  },
  {
   "cell_type": "code",
   "execution_count": 45,
   "metadata": {},
   "outputs": [
    {
     "data": {
      "text/plain": [
       "'0.7046'"
      ]
     },
     "execution_count": 45,
     "metadata": {},
     "output_type": "execute_result"
    }
   ],
   "source": [
    "# TEST\n",
    "str(round(frac_degree_lt_neighbors(add_health_networks[3]), 4))"
   ]
  },
  {
   "cell_type": "code",
   "execution_count": 46,
   "metadata": {},
   "outputs": [
    {
     "data": {
      "text/plain": [
       "'0.6818'"
      ]
     },
     "execution_count": 46,
     "metadata": {},
     "output_type": "execute_result"
    }
   ],
   "source": [
    "# TEST\n",
    "str(round(frac_degree_lt_neighbors(add_health_networks[30]), 4))"
   ]
  },
  {
   "cell_type": "markdown",
   "metadata": {},
   "source": [
    "Here is a function that takes the function that you wrote above and uses it to calculate the average number of neighbors of each node in a given network. So this function:\n",
    "\n",
    "1. For each node in the network, calculate the average number of friends that the node's friends have\n",
    "2. Take the average of that quantity over all of the nodes in the network\n",
    "\n",
    "We'll use this function below."
   ]
  },
  {
   "cell_type": "code",
   "execution_count": 47,
   "metadata": {},
   "outputs": [],
   "source": [
    "def get_avg_nbr_degree(g):\n",
    "    avg_nbr_degree_total = 0\n",
    "    num_nodes = 0\n",
    "    \n",
    "    for node in g.nodes():\n",
    "        avg_nbr_degree_total = avg_nbr_degree_total + get_average_degree_of_neighbors(g, node)\n",
    "        num_nodes = num_nodes + 1\n",
    "        \n",
    "    return(avg_nbr_degree_total / num_nodes)"
   ]
  },
  {
   "cell_type": "markdown",
   "metadata": {},
   "source": [
    "To see an example of the function in action, try this out:"
   ]
  },
  {
   "cell_type": "code",
   "execution_count": 48,
   "metadata": {},
   "outputs": [
    {
     "data": {
      "text/plain": [
       "7.713074767422592"
      ]
     },
     "execution_count": 48,
     "metadata": {},
     "output_type": "execute_result"
    }
   ],
   "source": [
    "get_avg_nbr_degree(one_network)"
   ]
  },
  {
   "cell_type": "markdown",
   "metadata": {},
   "source": [
    "This means that the average node in the network `one_network` has friends whose average degree is about 7.7"
   ]
  },
  {
   "cell_type": "markdown",
   "metadata": {},
   "source": [
    "#### Apply the function to calculate the average degree and average friends' degree for all add health networks."
   ]
  },
  {
   "cell_type": "markdown",
   "metadata": {},
   "source": [
    "**Question 12** Now go through and, for each Add Health network, calculate (i) the average degree; (ii) the average of each node's neighbors' degrees; (iii) the fraction of nodes for which the degree is smaller than the average of its neighbors' degrees.\n",
    "\n",
    "*[HINT: You might find it helpful to follow the pattern we used in lab here.]*\n",
    "\n",
    "```\n",
    "BEGIN QUESTION\n",
    "name: q12\n",
    "points: 3\n",
    "manual: false\n",
    "```"
   ]
  },
  {
   "cell_type": "code",
   "execution_count": 50,
   "metadata": {},
   "outputs": [],
   "source": [
    "avg_degree = make_array()\n",
    "avg_neighbor_degree = make_array()\n",
    "frac_smaller_than_neighbors = make_array()\n",
    "\n",
    "# BEGIN SOLUTION NO PROMPT\n",
    "for g in add_health_networks:\n",
    "    avg_degree = np.append(avg_degree, 2.0*g.number_of_edges()/g.number_of_nodes())\n",
    "    avg_neighbor_degree = np.append(avg_neighbor_degree, get_avg_nbr_degree(g))\n",
    "    frac_smaller_than_neighbors = np.append(frac_smaller_than_neighbors, frac_degree_lt_neighbors(g))\n",
    "\n",
    "add_health_msmts = Table().with_columns([\n",
    "     'id', np.arange(1, number_add_health_networks+1),\n",
    "     'avg_degree', avg_degree,\n",
    "     'avg_neighbor_degree', avg_neighbor_degree,\n",
    "     'frac_lt_neighbors', frac_smaller_than_neighbors\n",
    "    ])\n",
    "# END SOLUTION\n",
    "\"\"\" # BEGIN PROMPT\n",
    "for g in add_health_networks:\n",
    "    avg_degree = np.append(avg_degree, ...)\n",
    "    avg_neighbor_degree = np.append(avg_neighbor_degree, ...)\n",
    "    frac_smaller_than_neighbors = np.append(frac_smaller_than_neighbors, ...)\n",
    "\n",
    "add_health_msmts = Table().with_columns([\n",
    "     'id', np.arange(1, number_add_health_networks+1),\n",
    "     'avg_degree', avg_degree,\n",
    "     'avg_neighbor_degree', avg_neighbor_degree,\n",
    "     'frac_lt_neighbors', frac_smaller_than_neighbors\n",
    "    ])\n",
    "\"\"\"; # END PROMPT"
   ]
  },
  {
   "cell_type": "code",
   "execution_count": 51,
   "metadata": {},
   "outputs": [
    {
     "data": {
      "text/plain": [
       "'7.23103'"
      ]
     },
     "execution_count": 51,
     "metadata": {},
     "output_type": "execute_result"
    }
   ],
   "source": [
    "# TEST\n",
    "str(round(np.mean(add_health_msmts['avg_degree']), 5))"
   ]
  },
  {
   "cell_type": "code",
   "execution_count": 52,
   "metadata": {},
   "outputs": [
    {
     "data": {
      "text/plain": [
       "'8.79592'"
      ]
     },
     "execution_count": 52,
     "metadata": {},
     "output_type": "execute_result"
    }
   ],
   "source": [
    "# TEST\n",
    "str(round(np.mean(add_health_msmts['avg_neighbor_degree']), 5))"
   ]
  },
  {
   "cell_type": "code",
   "execution_count": 53,
   "metadata": {},
   "outputs": [
    {
     "data": {
      "text/plain": [
       "'0.68504'"
      ]
     },
     "execution_count": 53,
     "metadata": {},
     "output_type": "execute_result"
    }
   ],
   "source": [
    "# TEST\n",
    "str(round(np.mean(add_health_msmts['frac_lt_neighbors']), 5))"
   ]
  },
  {
   "cell_type": "code",
   "execution_count": 54,
   "metadata": {},
   "outputs": [
    {
     "data": {
      "text/plain": [
       "'0.98939'"
      ]
     },
     "execution_count": 54,
     "metadata": {},
     "output_type": "execute_result"
    }
   ],
   "source": [
    "# TEST\n",
    "str(round(np.corrcoef(add_health_msmts['avg_degree'], add_health_msmts['avg_neighbor_degree'])[0,1], 5))"
   ]
  },
  {
   "cell_type": "code",
   "execution_count": 55,
   "metadata": {},
   "outputs": [
    {
     "data": {
      "text/plain": [
       "'0.03092'"
      ]
     },
     "execution_count": 55,
     "metadata": {},
     "output_type": "execute_result"
    }
   ],
   "source": [
    "# TEST\n",
    "str(round(np.corrcoef(add_health_msmts['avg_neighbor_degree'], add_health_msmts['frac_lt_neighbors'])[0,1], 5))"
   ]
  },
  {
   "cell_type": "markdown",
   "metadata": {},
   "source": [
    "**Question 13** Make a scatterplot that compares the average degree (x axis) and the average neighbor degree (y axis) across all of the Add Health networks.\n",
    "\n",
    "```\n",
    "BEGIN QUESTION\n",
    "name: q13\n",
    "manual: True\n",
    "points: 2\n",
    "```"
   ]
  },
  {
   "cell_type": "code",
   "execution_count": 56,
   "metadata": {},
   "outputs": [
    {
     "data": {
      "image/png": "[encoded data removed]",
      "text/plain": [
       "<Figure size 360x360 with 1 Axes>"
      ]
     },
     "metadata": {},
     "output_type": "display_data"
    }
   ],
   "source": [
    "# BEGIN SOLUTION\n",
    "add_health_msmts.scatter('avg_degree', 'avg_neighbor_degree')\n",
    "# END SOLUTION"
   ]
  },
  {
   "cell_type": "markdown",
   "metadata": {},
   "source": [
    "**Question 14** Does the scatterplot you just made seem to be consistent with the friendship paradox?\n",
    "\n",
    "```\n",
    "BEGIN QUESTION\n",
    "name: q14\n",
    "points: 2\n",
    "manual: True\n",
    "```"
   ]
  },
  {
   "cell_type": "markdown",
   "metadata": {},
   "source": [
    "**SOLUTION:** Yes, it does: all of the points lie above the $y=x$ line, meaning that in every single Add Health network, the average neighbor degree is larger than the average degree."
   ]
  },
  {
   "cell_type": "markdown",
   "metadata": {},
   "source": [
    "**Question 15** Make a histogram that shows, across all of the Add Health networks, the distribution of the fraction of nodes whose degree is smaller than the neighbors' average degree.\n",
    "\n",
    "```\n",
    "BEGIN QUESTION\n",
    "name: q15\n",
    "manual: True\n",
    "points: 2\n",
    "```"
   ]
  },
  {
   "cell_type": "code",
   "execution_count": 57,
   "metadata": {},
   "outputs": [
    {
     "data": {
      "image/png": "[encoded data removed]",
      "text/plain": [
       "<Figure size 432x288 with 1 Axes>"
      ]
     },
     "metadata": {},
     "output_type": "display_data"
    }
   ],
   "source": [
    "# BEGIN SOLUTION\n",
    "add_health_msmts.hist('frac_lt_neighbors', bins=np.arange(.55, .75, .01))\n",
    "# END SOLUTION"
   ]
  },
  {
   "cell_type": "markdown",
   "metadata": {},
   "source": [
    "**Question 16** Does the histogram you just made seem to be consistent with what you would expect from the friendship paradox?\n",
    "\n",
    "```\n",
    "BEGIN QUESTION\n",
    "name: q16\n",
    "manual: True\n",
    "points: 2\n",
    "```"
   ]
  },
  {
   "cell_type": "markdown",
   "metadata": {},
   "source": [
    "**SOLUTION:** - You could argue yes, it does: in all networks, well over half of the nodes will have friends whose average degree is higher than their own. You could also argue that it is not clear, since we have not set up a formal test, and so we don't have a good way to tell what we would expect to see under the friendship paradox. (This is a weaker argument, in my opinion, but it isn't wrong.)"
   ]
  },
  {
   "cell_type": "markdown",
   "metadata": {},
   "source": [
    "# Submit the homework\n"
   ]
  }
 ],
 "metadata": {
  "anaconda-cloud": {},
  "kernelspec": {
   "display_name": "Python 3",
   "language": "python",
   "name": "python3"
  },
  "language_info": {
   "codemirror_mode": {
    "name": "ipython",
    "version": 3
   },
   "file_extension": ".py",
   "mimetype": "text/x-python",
   "name": "python",
   "nbconvert_exporter": "python",
   "pygments_lexer": "ipython3",
   "version": "3.7.1"
  }
 },
 "nbformat": 4,
 "nbformat_minor": 1
}
