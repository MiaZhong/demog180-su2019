{
 "cells": [
  {
   "cell_type": "code",
   "execution_count": null,
   "metadata": {},
   "outputs": [],
   "source": [
    "!pip install networkx --upgrade"
   ]
  },
  {
   "cell_type": "code",
   "execution_count": 3,
   "metadata": {},
   "outputs": [],
   "source": [
    "from IPython.core.display import HTML\n",
    "from datascience import *\n",
    "\n",
    "import matplotlib\n",
    "matplotlib.use('Agg')\n",
    "%matplotlib inline\n",
    "import matplotlib.pyplot as plt\n",
    "import numpy as np\n",
    "import os\n",
    "plt.style.use('fivethirtyeight')\n",
    "\n",
    "import networkx as nx"
   ]
  },
  {
   "cell_type": "markdown",
   "metadata": {
    "collapsed": true
   },
   "source": [
    "# Homework 04: The friendship paradox"
   ]
  },
  {
   "cell_type": "markdown",
   "metadata": {},
   "source": [
    "## Why your friends (probably) have more friends than you do"
   ]
  },
  {
   "cell_type": "markdown",
   "metadata": {},
   "source": [
    "Please read this short article:\n",
    "\n",
    "[Friends you can count on](https://opinionator.blogs.nytimes.com/2012/09/17/friends-you-can-count-on/) by Steve Strogatz  \n",
    "\n",
    "And answer a couple of short questions about it.\n",
    "\n",
    "If you are really curious, you can also optionally look at the original paper that discussed the friendship paradox (and which was the inspiration for this homework's title):\n",
    "\n",
    "[Why your friends have more friends than you do](http://www.journals.uchicago.edu/doi/abs/10.1086/229693) by Scott Feld [OPTIONAL BACKGROUND]"
   ]
  },
  {
   "cell_type": "markdown",
   "metadata": {
    "collapsed": true
   },
   "source": [
    "**Question 1** According to Strogatz, why do people experience airplanes, restaurants, parks, and beaches to be more crowded than averages would suggest?  \n",
    "*[Please answer in one or two sentences]*\n",
    "\n",
    "```\n",
    "BEGIN QUESTION\n",
    "name: q1\n",
    "manual: true\n",
    "```"
   ]
  },
  {
   "cell_type": "markdown",
   "metadata": {},
   "source": [
    "**SOLUTION**: Because more people experience these things when they are crowded. So if an airplane flies 2 days, and on one day it carries 100 passengers and on the second day it carries 10 passengers, then 100 people experience the airplane as crowded and 10 people experience the airplane as not crowded."
   ]
  },
  {
   "cell_type": "markdown",
   "metadata": {},
   "source": [
    "**Question 2a** Which two groups did Christakis and Fowler monitor to see who got the flu first? Which group ended up actually getting the flu first?  \n",
    "*[Please answer in one or two sentences]*\n",
    "\n",
    "```\n",
    "BEGIN QUESTION\n",
    "name: q2a\n",
    "manual: True\n",
    "```"
   ]
  },
  {
   "cell_type": "markdown",
   "metadata": {},
   "source": [
    "**SOLUTION**: The two groups were (i) randomly picked students; and (ii) friends of the randomly picked students"
   ]
  },
  {
   "cell_type": "markdown",
   "metadata": {},
   "source": [
    "**Question 2b** Which two groups did Christakis and Fowler monitor to see who got the flu first? Which group ended up actually getting the flu first?  \n",
    "*[Please answer in one or two sentences]*\n",
    "\n",
    "```\n",
    "BEGIN QUESTION\n",
    "name: q2b\n",
    "manual: True\n",
    "```"
   ]
  },
  {
   "cell_type": "markdown",
   "metadata": {},
   "source": [
    "**SOLUTION**: The friends of the randomly picked students got the flu first."
   ]
  },
  {
   "cell_type": "markdown",
   "metadata": {},
   "source": [
    "## Testing the friendship paradox"
   ]
  },
  {
   "cell_type": "markdown",
   "metadata": {},
   "source": [
    "In this homework, we're going to see if the friendship paradox seems to hold for the networks from the Add Health study. We'll start by loading the Add Health networks into memory, as we have done in lab."
   ]
  },
  {
   "cell_type": "markdown",
   "metadata": {},
   "source": [
    "### Read in Add Health networks"
   ]
  },
  {
   "cell_type": "markdown",
   "metadata": {},
   "source": [
    " We'll start by loading the Add Health networks into memory, as we have done in lab. This function will help."
   ]
  },
  {
   "cell_type": "code",
   "execution_count": 5,
   "metadata": {},
   "outputs": [],
   "source": [
    "def read_add_health_network(network_id):\n",
    "    \"\"\"\n",
    "    network_id : integer from 1 to 84\n",
    "    \n",
    "    read in the Add Health network corresponding to the given id number and\n",
    "    return it as an undirected networkx object\n",
    "    \"\"\"\n",
    "\n",
    "    # this file was downloaded from\n",
    "    # http://moreno.ss.uci.edu/data.html#adhealth\n",
    "    edge_file = os.path.join(\"../..\", \"data\", \"add-health\", \"comm\" + str(network_id) + \".dat\")\n",
    "    with open(edge_file, 'r') as f:\n",
    "        edge_lines = f.readlines()\n",
    "        \n",
    "    network = nx.parse_edgelist(edge_lines, nodetype=int, data=[('activity_level', float)])\n",
    "    \n",
    "    # note that we call the to_undirected method to ensure we get an undirected network\n",
    "    return(network.to_undirected())"
   ]
  },
  {
   "cell_type": "markdown",
   "metadata": {},
   "source": [
    "Now let's use `read_add_health_network` to actually read in all 84 of the Add Health school networks:"
   ]
  },
  {
   "cell_type": "code",
   "execution_count": 6,
   "metadata": {},
   "outputs": [],
   "source": [
    "number_add_health_networks = 84\n",
    "add_health_networks = [read_add_health_network(x) for x in range(1,number_add_health_networks+1)]"
   ]
  },
  {
   "cell_type": "markdown",
   "metadata": {},
   "source": [
    "#### Starting with one network"
   ]
  },
  {
   "cell_type": "markdown",
   "metadata": {},
   "source": [
    "We'll start by focusing on one specific network from the Add Health dataset. We'll develop some code using this one network. Later on, we'll generalize our results to all of the networks."
   ]
  },
  {
   "cell_type": "code",
   "execution_count": 7,
   "metadata": {},
   "outputs": [],
   "source": [
    "one_network = add_health_networks[0]"
   ]
  },
  {
   "cell_type": "markdown",
   "metadata": {},
   "source": [
    "**Question 3** Make a table that has two columns: one with the id of each node, and another with the degree of each node.\n",
    "\n",
    "```\n",
    "BEGIN QUESTION\n",
    "name: q3\n",
    "manual: false\n",
    "points: 2\n",
    "```"
   ]
  },
  {
   "cell_type": "code",
   "execution_count": 8,
   "metadata": {},
   "outputs": [
    {
     "data": {
      "text/html": [
       "<table border=\"1\" class=\"dataframe\">\n",
       "    <thead>\n",
       "        <tr>\n",
       "            <th>id</th> <th>degree</th>\n",
       "        </tr>\n",
       "    </thead>\n",
       "    <tbody>\n",
       "        <tr>\n",
       "            <td>1   </td> <td>3     </td>\n",
       "        </tr>\n",
       "        <tr>\n",
       "            <td>52  </td> <td>7     </td>\n",
       "        </tr>\n",
       "        <tr>\n",
       "            <td>2   </td> <td>9     </td>\n",
       "        </tr>\n",
       "        <tr>\n",
       "            <td>20  </td> <td>9     </td>\n",
       "        </tr>\n",
       "        <tr>\n",
       "            <td>27  </td> <td>8     </td>\n",
       "        </tr>\n",
       "        <tr>\n",
       "            <td>33  </td> <td>12    </td>\n",
       "        </tr>\n",
       "        <tr>\n",
       "            <td>45  </td> <td>5     </td>\n",
       "        </tr>\n",
       "        <tr>\n",
       "            <td>46  </td> <td>8     </td>\n",
       "        </tr>\n",
       "        <tr>\n",
       "            <td>57  </td> <td>2     </td>\n",
       "        </tr>\n",
       "        <tr>\n",
       "            <td>59  </td> <td>5     </td>\n",
       "        </tr>\n",
       "    </tbody>\n",
       "</table>\n",
       "<p>... (59 rows omitted)</p>"
      ],
      "text/plain": [
       "id   | degree\n",
       "1    | 3\n",
       "52   | 7\n",
       "2    | 9\n",
       "20   | 9\n",
       "27   | 8\n",
       "33   | 12\n",
       "45   | 5\n",
       "46   | 8\n",
       "57   | 2\n",
       "59   | 5\n",
       "... (59 rows omitted)"
      ]
     },
     "execution_count": 8,
     "metadata": {},
     "output_type": "execute_result"
    }
   ],
   "source": [
    "degree_data = Table().with_columns([\n",
    "    # BEGIN SOLUTION NO PROMPT\n",
    "    'id', one_network.nodes(),\n",
    "    'degree', [y for x,y in one_network.degree(one_network.nodes())]\n",
    "    ])\n",
    "    # END SOLUTION\n",
    "\"\"\" # BEGIN PROMPT\n",
    "    'id', ...,\n",
    "    'degree', ...\n",
    "    ])\n",
    "\"\"\"; # END PROMPT\n",
    "\n",
    "degree_data"
   ]
  },
  {
   "cell_type": "code",
   "execution_count": 9,
   "metadata": {},
   "outputs": [
    {
     "data": {
      "text/plain": [
       "6.38"
      ]
     },
     "execution_count": 9,
     "metadata": {},
     "output_type": "execute_result"
    }
   ],
   "source": [
    "# TEST\n",
    "round(np.mean(degree_data['degree']),2)"
   ]
  },
  {
   "cell_type": "code",
   "execution_count": 10,
   "metadata": {},
   "outputs": [
    {
     "data": {
      "text/plain": [
       "True"
      ]
     },
     "execution_count": 10,
     "metadata": {},
     "output_type": "execute_result"
    }
   ],
   "source": [
    "# TEST\n",
    "round(np.sum(degree_data['degree'])) == 440"
   ]
  },
  {
   "cell_type": "markdown",
   "metadata": {},
   "source": [
    "Now let's work on figuring out how to get the average degree of the neighbors of a single node."
   ]
  },
  {
   "cell_type": "markdown",
   "metadata": {},
   "source": [
    "**You're done!**"
   ]
  },
  {
   "cell_type": "code",
   "execution_count": null,
   "metadata": {},
   "outputs": [],
   "source": []
  }
 ],
 "metadata": {
  "anaconda-cloud": {},
  "kernelspec": {
   "display_name": "Python 3",
   "language": "python",
   "name": "python3"
  },
  "language_info": {
   "codemirror_mode": {
    "name": "ipython",
    "version": 3
   },
   "file_extension": ".py",
   "mimetype": "text/x-python",
   "name": "python",
   "nbconvert_exporter": "python",
   "pygments_lexer": "ipython3",
   "version": "3.7.1"
  }
 },
 "nbformat": 4,
 "nbformat_minor": 1
}
