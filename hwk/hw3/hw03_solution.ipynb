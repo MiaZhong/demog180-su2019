{
 "cells": [
  {
   "cell_type": "code",
   "execution_count": null,
   "metadata": {
    "collapsed": true
   },
   "outputs": [],
   "source": [
    "!pip install --upgrade networkx"
   ]
  },
  {
   "cell_type": "code",
   "execution_count": 1,
   "metadata": {
    "collapsed": true
   },
   "outputs": [],
   "source": [
    "from IPython.core.display import HTML\n",
    "from datascience import *\n",
    "import itertools\n",
    "import matplotlib\n",
    "\n",
    "import matplotlib.pyplot as plt\n",
    "import numpy as np\n",
    "import os\n",
    "plt.style.use('fivethirtyeight')\n",
    "\n",
    "import networkx as nx\n",
    "%matplotlib inline\n",
    "\n",
    "#np.random.seed(99)"
   ]
  },
  {
   "cell_type": "code",
   "execution_count": 2,
   "metadata": {
    "collapsed": false
   },
   "outputs": [
    {
     "name": "stdout",
     "output_type": "stream",
     "text": [
      "=====================================================================\n",
      "Assignment: Demography180 Homework 03\n",
      "OK, version v1.13.11\n",
      "=====================================================================\n",
      "\n"
     ]
    },
    {
     "name": "stderr",
     "output_type": "stream",
     "text": [
      "ERROR  | auth.py:91 | {'error': 'invalid_grant'}\n"
     ]
    },
    {
     "name": "stdout",
     "output_type": "stream",
     "text": [
      "\n",
      "Open the following URL:\n",
      "\n",
      "https://okpy.org/client/login/\n",
      "\n",
      "After logging in, copy the code from the web page and paste it into the box.\n",
      "Then press the \"Enter\" key on your keyboard.\n",
      "\n",
      "Paste your code here: GaOQAaEgSE4uNKSHBpKIXdJbKz3hga\n",
      "Successfully logged in as ruijie_zhong@berkeley.edu\n"
     ]
    }
   ],
   "source": [
    "#Loading testing data\n",
    "from client.api.notebook import Notebook \n",
    "hw03 = Notebook('hw03.ok')\n",
    "_ = hw03.auth(inline=True)"
   ]
  },
  {
   "cell_type": "markdown",
   "metadata": {
    "collapsed": true
   },
   "source": [
    "# HW 03"
   ]
  },
  {
   "cell_type": "markdown",
   "metadata": {},
   "source": [
    "In this HW, we are going to calculate the average clustering coefficient of a network based on the concepts we have discussed in the lectures and labs.\n",
    "Starting from a small hand-crafted network, we are eventually going to analyze a complete network data from the [Add Health project](http://www.cpc.unc.edu/projects/addhealth)."
   ]
  },
  {
   "cell_type": "markdown",
   "metadata": {},
   "source": [
    "## Clustering Coefficient"
   ]
  },
  {
   "cell_type": "markdown",
   "metadata": {},
   "source": [
    "**Clustering Coefficient ** of a node can be defined as the fraction of the number of pairs of neighbors of a node that are directly connected to each other."
   ]
  },
  {
   "cell_type": "markdown",
   "metadata": {},
   "source": [
    "Consider the network created by the following code."
   ]
  },
  {
   "cell_type": "code",
   "execution_count": 3,
   "metadata": {
    "collapsed": false
   },
   "outputs": [
    {
     "name": "stderr",
     "output_type": "stream",
     "text": [
      "/Users/Mia/anaconda/lib/python3.6/site-packages/networkx/drawing/nx_pylab.py:611: MatplotlibDeprecationWarning: isinstance(..., numbers.Number)\n",
      "  if cb.is_numlike(alpha):\n"
     ]
    },
    {
     "data": {
      "image/png": "[encoded data removed]",
      "text/plain": [
       "<Figure size 432x288 with 1 Axes>"
      ]
     },
     "metadata": {},
     "output_type": "display_data"
    }
   ],
   "source": [
    "ex_network = nx.Graph([(1,3), (2,3), (1,2), (3,4), (5,6), (7,8)])\n",
    "ex_network.add_node(9)\n",
    "nx.draw_circular(ex_network, with_labels=True)"
   ]
  },
  {
   "cell_type": "markdown",
   "metadata": {},
   "source": [
    "### 1) Calculating average clustering coefficient by hand\n",
    "\n",
    "**Practice** For each node in the above graph, calculate the following things:\n",
    "\n",
    "* Degree of the node, \n",
    "* Number of pairs of neighbors of the node,\n",
    "* Number of the pairs of neighbors that are directly connected with each other\n",
    "\n",
    "Write down your answer as a table with the following columns:\n",
    "\n",
    "NodeId, Degree of the node, Number of pairs of neighbors, Number of the pairs of the neighbors that are directly connected\n",
    "\n",
    "* Write down this table as comma seperated and begin each line with a #"
   ]
  },
  {
   "cell_type": "code",
   "execution_count": null,
   "metadata": {
    "collapsed": true
   },
   "outputs": [],
   "source": [
    "# NodeId, Degree of the node, Number of pairs of neighbors, Number of the pairs of the neighbors that are directly connected\n",
    "# 1,2,1,1\n",
    "# 2,2,1,1\n",
    "# 3,3,3,1\n",
    "# 4,1,0,0\n",
    "# 5,1,0,0\n",
    "# 6,1,0,0\n",
    "# 7,1,0,0\n",
    "# 8,1,0,0\n",
    "# 9,0,0,0"
   ]
  },
  {
   "cell_type": "markdown",
   "metadata": {},
   "source": [
    "The clustering coefficient of each node is the proportion of number of the pairs of the neighbors that are directly connected to the number of all possible pairs of the neighbors. Check the lecture slide and demo for review.\n",
    "\n",
    "**Practice** For each of the node in the above mentiond graph, calculate the clustering coefficient for each node. Like in question 1, write down your answer a table with the format:\n",
    "\n",
    "NodeId, Clustering Coefficient"
   ]
  },
  {
   "cell_type": "code",
   "execution_count": null,
   "metadata": {
    "collapsed": true
   },
   "outputs": [],
   "source": [
    "# NodeId, Clustering Coefficient\n",
    "# 1,1\n",
    "# 2,1\n",
    "# 3,0.333\n",
    "# 4,0\n",
    "# 5,0\n",
    "# 6,0\n",
    "# 7,0\n",
    "# 8,0\n",
    "# 9,0"
   ]
  },
  {
   "cell_type": "markdown",
   "metadata": {},
   "source": [
    "** Question ** Calculate the average clustering coefficient for the whole graph."
   ]
  },
  {
   "cell_type": "code",
   "execution_count": null,
   "metadata": {
    "collapsed": true
   },
   "outputs": [],
   "source": [
    "# Write solution here\n",
    "q1 = ..."
   ]
  },
  {
   "cell_type": "code",
   "execution_count": null,
   "metadata": {
    "collapsed": true
   },
   "outputs": [],
   "source": [
    "#SOLUTION\n",
    "q1 = (1+1+0.333+0+0+0+0+0+0)/9"
   ]
  },
  {
   "cell_type": "code",
   "execution_count": null,
   "metadata": {
    "collapsed": true
   },
   "outputs": [],
   "source": [
    "_ = hw03.grade('q1')"
   ]
  },
  {
   "cell_type": "markdown",
   "metadata": {},
   "source": [
    "### 2) Calculating average clustering coefficient using the function in networkx module\n",
    "\n",
    "Networkx library provides functions to calculate the average clustering coefficient of a graph. To be specific,\n",
    "`average_clustering` method can be used to calculate the average clustering coefficient of a graph. Use the average_clustering method to calculate the average clustering coefficient of the above graph.  \n",
    "\n",
    "The average clustering coefficient calculated by this function should be the same with your answer calculated by hand for q4. (There can be some minor difference if you are rounding off your answer.)"
   ]
  },
  {
   "cell_type": "code",
   "execution_count": 4,
   "metadata": {
    "collapsed": false
   },
   "outputs": [
    {
     "data": {
      "text/plain": [
       "0.25925925925925924"
      ]
     },
     "execution_count": 4,
     "metadata": {},
     "output_type": "execute_result"
    }
   ],
   "source": [
    "nx.average_clustering(ex_network)"
   ]
  },
  {
   "cell_type": "markdown",
   "metadata": {
    "collapsed": true
   },
   "source": [
    "### 3) Create a function to calculating clustering coefficient from scratch\n",
    "\n",
    "In this part of this homework, we are going to write down a method to calculate the average clustering coefficient of a network from scratch."
   ]
  },
  {
   "cell_type": "markdown",
   "metadata": {},
   "source": [
    "**Algorithm** Algorithm for calculating the clustering coefficient of ONE node is as follows.\n",
    "\n",
    "1. Get all the neighboring nodes for the node x\n",
    "2. Get all the possible pairs for the neighboring nodes of x\n",
    "3. For each of the pair created in the last step, count the number of pairs that are directly connected to each other\n",
    "4. Divide the number of pairs that are directly connected (Step 3) by the total number of pairs"
   ]
  },
  {
   "cell_type": "markdown",
   "metadata": {},
   "source": [
    "Many of the methods in the networkx library return an iterator. The concept of iterators is beyond the scope of this course and homework but two things to remember is that the iterators are as follows:\n",
    "\n",
    "1. Iterators can be used in for loops just like any other container. In other words, iterators can be used in for loop as follows\n",
    "<code> for x in iterator </code>\n",
    "2. Iterators can be easily converted into lists by using list comprehension as follows\n",
    "<code> [x for x in iterator] </code>"
   ]
  },
  {
   "cell_type": "markdown",
   "metadata": {},
   "source": [
    "** Practice ** Step 1: Let us suppose that we are interested in getting the neighbors of a node. We can use the neighbors function which is a member of the graph class in networkx for the purpose. Complete the following function."
   ]
  },
  {
   "cell_type": "code",
   "execution_count": 13,
   "metadata": {
    "collapsed": true
   },
   "outputs": [],
   "source": [
    "def get_neighbors(graph_instance, node_id): # two inputs: the network as a graph object, and the id of the node\n",
    "    ''' Get all the neighbors of node_id in graph_instance as a list'''\n",
    "    neighbors_iter=graph_instance.neighbors(node_id) # Use the .neighbor function of the graph object that results an iterator for the neighbors\n",
    "    neighbors_list=[neighbor for neighbor in neighbors_iter] # Covert the iterator into a list (easier to work with)\n",
    "    return neighbors_list"
   ]
  },
  {
   "cell_type": "code",
   "execution_count": 6,
   "metadata": {
    "collapsed": false
   },
   "outputs": [
    {
     "data": {
      "text/plain": [
       "[1, 2, 4]"
      ]
     },
     "execution_count": 6,
     "metadata": {},
     "output_type": "execute_result"
    }
   ],
   "source": [
    "# Now we can get the neighbors of node 3\n",
    "neighbor_n3 = get_neighbors(ex_network, 3)\n",
    "neighbor_n3"
   ]
  },
  {
   "cell_type": "markdown",
   "metadata": {},
   "source": [
    "** Practice ** Step 2: Now that we have the list of neighbors for node with id 3. The next step is to convert the list of neighbors into list of possible pair of neighbors. We are going to use the combinations functions of the builtin itertools library for the purpose. \n",
    "\n",
    "Note that the itertools.combinations function returns an iterator and for the easy of understanding, we are going to convert this iterator into a list as discussed earlier in this homework as well."
   ]
  },
  {
   "cell_type": "code",
   "execution_count": 7,
   "metadata": {
    "collapsed": false
   },
   "outputs": [
    {
     "data": {
      "text/plain": [
       "[(1, 2), (1, 3), (2, 3)]"
      ]
     },
     "execution_count": 7,
     "metadata": {},
     "output_type": "execute_result"
    }
   ],
   "source": [
    "# example usage of itertools.combinations\n",
    "# you get a interator of all the possible combinations of 2 elements from the [1,2,3] array\n",
    "[x for x in itertools.combinations([1,2,3],2)]"
   ]
  },
  {
   "cell_type": "code",
   "execution_count": 14,
   "metadata": {
    "collapsed": true
   },
   "outputs": [],
   "source": [
    "# now let's define a function that returns all the possible pairs of neighbors of one node.\n",
    "def get_neighbors_pairs(neighbors_list): # this function should apply to the returned neighbor list from the function get_neighbors\n",
    "    lst= [x for x in itertools.combinations(neighbors_list,2)]\n",
    "    return lst"
   ]
  },
  {
   "cell_type": "code",
   "execution_count": 9,
   "metadata": {
    "collapsed": false
   },
   "outputs": [
    {
     "data": {
      "text/plain": [
       "[(1, 2), (1, 4), (2, 4)]"
      ]
     },
     "execution_count": 9,
     "metadata": {},
     "output_type": "execute_result"
    }
   ],
   "source": [
    "# you can have all the possible pairs between node 1, 2, and 4, who are node 3's neighbors\n",
    "allpairs_n3 = get_neighbors_pairs(neighbor_n3)\n",
    "allpairs_n3 "
   ]
  },
  {
   "cell_type": "markdown",
   "metadata": {},
   "source": [
    "** Practice ** Step 3: In the next step, we are required to count the number of pairs that are directly connected with each other. We are going to use the neighbors function from the Graph class."
   ]
  },
  {
   "cell_type": "code",
   "execution_count": 15,
   "metadata": {
    "collapsed": true
   },
   "outputs": [],
   "source": [
    "def count_connected_neighbors(graph_instance,neighbors_pairs ):\n",
    "    count=0 # we prepare a count 0, and add 1 to it when we have a connected pair of neighbors\n",
    "    for x, y in neighbors_pairs: \n",
    "        if x in graph_instance.neighbors(y): # If two nodes x and y are directly connected with each other in graph g, \n",
    "                                             # then x will be in the neighbors of y and vice versa.\n",
    "            count+=1\n",
    "    return count"
   ]
  },
  {
   "cell_type": "code",
   "execution_count": 11,
   "metadata": {
    "collapsed": false
   },
   "outputs": [
    {
     "data": {
      "text/plain": [
       "1"
      ]
     },
     "execution_count": 11,
     "metadata": {},
     "output_type": "execute_result"
    }
   ],
   "source": [
    "connected_count_n3=count_connected_neighbors(ex_network,allpairs_n3)\n",
    "connected_count_n3"
   ]
  },
  {
   "cell_type": "markdown",
   "metadata": {},
   "source": [
    "** Question ** Step 4: As the last step in the algorithm, we are going to calculate the clustering coefficient of the node 3."
   ]
  },
  {
   "cell_type": "code",
   "execution_count": 12,
   "metadata": {
    "collapsed": true
   },
   "outputs": [],
   "source": [
    "def get_clustering_coeff(allpairs, connected_neighbors_count): # 2 inputs: the list of all possible pairs\n",
    "                                                               #           the count of connected neighbors\n",
    "    n_allpairs=len(allpairs)\n",
    "    if n_allpairs!=0:\n",
    "        cc=float(connected_neighbors_count)/n_allpairs\n",
    "    else:\n",
    "        cc=0\n",
    "    return cc"
   ]
  },
  {
   "cell_type": "code",
   "execution_count": null,
   "metadata": {
    "collapsed": true
   },
   "outputs": [],
   "source": [
    "# apply this function and get the clustering coefficient of node 3\n",
    "q2 = ..."
   ]
  },
  {
   "cell_type": "code",
   "execution_count": null,
   "metadata": {
    "collapsed": true
   },
   "outputs": [],
   "source": [
    "# SOLUTION\n",
    "q2 = get_clustering_coeff(allpairs_n3,connected_count_n3)\n",
    "q2"
   ]
  },
  {
   "cell_type": "code",
   "execution_count": null,
   "metadata": {
    "collapsed": true
   },
   "outputs": [],
   "source": [
    "_ = hw03.grade('q2')"
   ]
  },
  {
   "cell_type": "markdown",
   "metadata": {},
   "source": [
    "**Question** Now that we have all the functions to compute the clustering coefficient, we are going to write a function to internally call all of these steps. Complete the following code."
   ]
  },
  {
   "cell_type": "code",
   "execution_count": null,
   "metadata": {
    "collapsed": true
   },
   "outputs": [],
   "source": [
    "def get_cc_node(graph_instance, node_id):\n",
    "    '''return the clustering coefficient of the node_id in the graph_instance'''\n",
    "    neighbors=... # Hint: Use one of the functions defined in the previous questions\n",
    "    \n",
    "    pairs= ... # Hint: Use one of the functions defined in the previous questions\n",
    "    \n",
    "    connected_count = ... # Hint: Use one of the functions defined in the previous questions\n",
    "    \n",
    "    cc=... # Hint: Use one of the functions defined in the previous questions\n",
    "    \n",
    "    return cc"
   ]
  },
  {
   "cell_type": "code",
   "execution_count": 16,
   "metadata": {
    "collapsed": true
   },
   "outputs": [],
   "source": [
    "#SOLUTION\n",
    "def get_cc_node(graph_instance, node_id):\n",
    "    '''return the clustering coefficient of the node_id in the graph_instance'''\n",
    "\n",
    "    #print('NodeId',node_id)\n",
    "    neighbors=get_neighbors(graph_instance, node_id) # Hint: Use one of the functions defined in the previous questions\n",
    "\n",
    "    #print(neighbors)\n",
    "    pairs=get_neighbors_pairs(neighbors) # Hint: Use one of the functions defined in the previous questions\n",
    "    \n",
    "    #print(pairs)\n",
    "    connected_count =count_connected_neighbors(graph_instance,pairs) # Hint: Use one of the functions defined in the previous questions\n",
    "    \n",
    "    #print(connected_count)\n",
    "    cc=get_clustering_coeff(pairs, connected_count) # Hint: Use one of the functions defined in the previous questions\n",
    "    \n",
    "    return cc"
   ]
  },
  {
   "cell_type": "code",
   "execution_count": null,
   "metadata": {
    "collapsed": true
   },
   "outputs": [],
   "source": [
    "# the clustering coefficient here should be the same as the previous calculation\n",
    "q3 = get_cc_node(ex_network, 3)"
   ]
  },
  {
   "cell_type": "code",
   "execution_count": null,
   "metadata": {
    "collapsed": true
   },
   "outputs": [],
   "source": [
    "_ = hw03.grade('q3')"
   ]
  },
  {
   "cell_type": "markdown",
   "metadata": {},
   "source": [
    "**Question** Now that we have a the function to calculate the clustering coefficient of a single node in a graph, our next step is to calculate the average clustering coefficient of all the nodes in a graph.\n",
    "\n",
    "This can be done by:\n",
    "\n",
    "1. Calculating the clustering coefficient for all the nodes in a graph and saving it in an array\n",
    "2. Calculating the mean of the array \n",
    "\n",
    "Complete the following function to calculate the average clustering coefficient of all the nodes in a graph."
   ]
  },
  {
   "cell_type": "code",
   "execution_count": null,
   "metadata": {
    "collapsed": true
   },
   "outputs": [],
   "source": [
    "def get_average_cc(graph_instance):\n",
    "    \n",
    "    cc_array=make_array() # begin with an empty array and then append new results to it\n",
    "    \n",
    "    for node in ...:\n",
    "        cc=...\n",
    "        cc_array=np.append(cc_array,cc)\n",
    "    \n",
    "    return np.mean(cc_array)"
   ]
  },
  {
   "cell_type": "code",
   "execution_count": 18,
   "metadata": {
    "collapsed": true
   },
   "outputs": [],
   "source": [
    "#SOLUTION\n",
    "def get_average_cc(graph_instance):\n",
    "    \n",
    "    cc_array=make_array()\n",
    "    \n",
    "    for node in graph_instance.nodes():\n",
    "        cc=get_cc_node(graph_instance, node)\n",
    "        #print (cc)\n",
    "        cc_array=np.append(cc_array,cc)\n",
    "    \n",
    "    return np.mean(cc_array)"
   ]
  },
  {
   "cell_type": "code",
   "execution_count": 19,
   "metadata": {
    "collapsed": false
   },
   "outputs": [
    {
     "data": {
      "text/plain": [
       "0.25925925925925924"
      ]
     },
     "execution_count": 19,
     "metadata": {},
     "output_type": "execute_result"
    }
   ],
   "source": [
    "q4 = get_average_cc(ex_network)\n",
    "q4"
   ]
  },
  {
   "cell_type": "code",
   "execution_count": 20,
   "metadata": {
    "collapsed": false
   },
   "outputs": [
    {
     "name": "stdout",
     "output_type": "stream",
     "text": [
      "~~~~~~~~~~~~~~~~~~~~~~~~~~~~~~~~~~~~~~~~~~~~~~~~~~~~~~~~~~~~~~~~~~~~~\n",
      "Running tests\n",
      "\n",
      "---------------------------------------------------------------------\n",
      "Test summary\n",
      "    Passed: 1\n",
      "    Failed: 0\n",
      "[ooooooooook] 100.0% passed\n",
      "\n"
     ]
    }
   ],
   "source": [
    "_ = hw03.grade('q4')"
   ]
  },
  {
   "cell_type": "markdown",
   "metadata": {},
   "source": [
    "Note that the average clustering created by your function q4 should be equal to the average clustering coefficient calculated by hand in q1."
   ]
  },
  {
   "cell_type": "code",
   "execution_count": null,
   "metadata": {
    "collapsed": true
   },
   "outputs": [],
   "source": [
    "round(q1,3)==round(q4,3)"
   ]
  },
  {
   "cell_type": "markdown",
   "metadata": {},
   "source": [
    "### Add Health network"
   ]
  },
  {
   "cell_type": "markdown",
   "metadata": {},
   "source": [
    "As the next step in this homework, we are going to calculate the average clustering coeffcieint for all the networks in the Add Health study."
   ]
  },
  {
   "cell_type": "code",
   "execution_count": 21,
   "metadata": {
    "collapsed": true
   },
   "outputs": [],
   "source": [
    "def read_add_health_network(network_id):\n",
    "    \"\"\"\n",
    "    network_id : integer from 1 to 84\n",
    "    \n",
    "    read in the Add Health network corresponding to the given id number and\n",
    "    return it as an undirected networkx object\n",
    "    \"\"\"\n",
    "\n",
    "    # this file was downloaded from\n",
    "    # http://moreno.ss.uci.edu/data.html#adhealth\n",
    "    edge_file = os.path.join(\"data\", \"comm\" + str(network_id) + \".dat\")\n",
    "    with open(edge_file, 'r') as f:\n",
    "        edge_lines = f.readlines()\n",
    "        \n",
    "    network = nx.parse_edgelist(edge_lines, nodetype=int, data=[('activity_level', float)])\n",
    "    \n",
    "    # note that we call the to_undirected method to ensure we get an undirected network\n",
    "    return(network.to_undirected())"
   ]
  },
  {
   "cell_type": "markdown",
   "metadata": {},
   "source": [
    "Now let's use this function to actually read in all 84 of the Add Health school networks:"
   ]
  },
  {
   "cell_type": "code",
   "execution_count": 22,
   "metadata": {
    "collapsed": true
   },
   "outputs": [],
   "source": [
    "number_add_health_networks = 84\n",
    "add_health_networks = [read_add_health_network(x) for x in range(1,number_add_health_networks+1)]\n",
    "# Running this cell will take a few seconds\n",
    "# now add_health_networks is an object containing 84 networks"
   ]
  },
  {
   "cell_type": "markdown",
   "metadata": {},
   "source": [
    "** Question **First, we are going to calculate the average clustering coefficient for **the first network** in the health networks study."
   ]
  },
  {
   "cell_type": "code",
   "execution_count": 23,
   "metadata": {
    "collapsed": false
   },
   "outputs": [
    {
     "ename": "SyntaxError",
     "evalue": "invalid syntax (<ipython-input-23-8c94f1e63095>, line 1)",
     "output_type": "error",
     "traceback": [
      "\u001b[0;36m  File \u001b[0;32m\"<ipython-input-23-8c94f1e63095>\"\u001b[0;36m, line \u001b[0;32m1\u001b[0m\n\u001b[0;31m    g=add_health_networks... # assign the first network in add_health_networks to 'g', use the index correctly\u001b[0m\n\u001b[0m                           ^\u001b[0m\n\u001b[0;31mSyntaxError\u001b[0m\u001b[0;31m:\u001b[0m invalid syntax\n"
     ]
    }
   ],
   "source": [
    "g=add_health_networks... # assign the first network in add_health_networks to 'g', use the index correctly\n",
    "\n",
    "cc_nx=nx.average_clustering(..) # we use the average clustering coefficient function to do the calculation\n",
    "\n",
    "print ('Average clustering coefficient calculated by the networkx library', cc_nx)\n",
    "\n",
    "cc_custom=get_average_cc(..) # we use the customized function to do the calculation\n",
    "\n",
    "print ('Average clustering coefficient calculated by our custom function', cc_custom)"
   ]
  },
  {
   "cell_type": "code",
   "execution_count": 24,
   "metadata": {
    "collapsed": false
   },
   "outputs": [
    {
     "name": "stdout",
     "output_type": "stream",
     "text": [
      "Average clustering coefficient calculated by the networkx library 0.46780964607051584\n",
      "Average clustering coefficient calculated by our custom function 0.467809646071\n"
     ]
    }
   ],
   "source": [
    "#SOLUTION\n",
    "g=add_health_networks[0] # get the network at the first index\n",
    "cc_nx=nx.average_clustering(g)\n",
    "print ('Average clustering coefficient calculated by the networkx library', cc_nx)\n",
    "cc_custom=get_average_cc(g)\n",
    "print ('Average clustering coefficient calculated by our custom function', cc_custom)"
   ]
  },
  {
   "cell_type": "code",
   "execution_count": 25,
   "metadata": {
    "collapsed": false
   },
   "outputs": [
    {
     "name": "stdout",
     "output_type": "stream",
     "text": [
      "~~~~~~~~~~~~~~~~~~~~~~~~~~~~~~~~~~~~~~~~~~~~~~~~~~~~~~~~~~~~~~~~~~~~~\n",
      "Running tests\n",
      "\n",
      "---------------------------------------------------------------------\n",
      "Test summary\n",
      "    Passed: 1\n",
      "    Failed: 0\n",
      "[ooooooooook] 100.0% passed\n",
      "\n"
     ]
    }
   ],
   "source": [
    "_ = hw03.grade('q5')"
   ]
  },
  {
   "cell_type": "markdown",
   "metadata": {},
   "source": [
    "### Calculating clustering coefficient for all of the Add Health communities"
   ]
  },
  {
   "cell_type": "markdown",
   "metadata": {},
   "source": [
    "**Question** Let's start by making a dataset that has the clustering coefficient in each of the 84 Add Health community networks. Fill in the missing code below:"
   ]
  },
  {
   "cell_type": "code",
   "execution_count": null,
   "metadata": {
    "collapsed": true
   },
   "outputs": [],
   "source": [
    "cc_ah = make_array()\n",
    "\n",
    "for g in ...:\n",
    "    cc_ah = np.append(..., ...) # np.append will append the new results to the end of original array\n",
    "                                # np.append(the original array, the new element), check np.append? for more info\n",
    "                                # we want to make an array of all the clustering coefficients for all the 84 networks\n",
    "\n",
    "add_health_df = Table().with_columns([  # here we want to make a table for these coefficients\n",
    "     'id', np.arange(1, number_add_health_networks+1), # the first column has the ids of the nodes\n",
    "     'clustering_coeff', ...                           # the second column has the clustering coefficient\n",
    "    ])\n",
    "\n",
    "add_health_df # take a look at the new table with all the CCs, running this cell might take a couple of seconds"
   ]
  },
  {
   "cell_type": "code",
   "execution_count": 26,
   "metadata": {
    "collapsed": false
   },
   "outputs": [
    {
     "data": {
      "text/html": [
       "<table border=\"1\" class=\"dataframe\">\n",
       "    <thead>\n",
       "        <tr>\n",
       "            <th>id</th> <th>clustering_coeff</th>\n",
       "        </tr>\n",
       "    </thead>\n",
       "    <tbody>\n",
       "        <tr>\n",
       "            <td>1   </td> <td>0.46781         </td>\n",
       "        </tr>\n",
       "        <tr>\n",
       "            <td>2   </td> <td>0.327214        </td>\n",
       "        </tr>\n",
       "        <tr>\n",
       "            <td>3   </td> <td>0.430558        </td>\n",
       "        </tr>\n",
       "        <tr>\n",
       "            <td>4   </td> <td>0.221537        </td>\n",
       "        </tr>\n",
       "        <tr>\n",
       "            <td>5   </td> <td>0.294993        </td>\n",
       "        </tr>\n",
       "        <tr>\n",
       "            <td>6   </td> <td>0.327537        </td>\n",
       "        </tr>\n",
       "        <tr>\n",
       "            <td>7   </td> <td>0.218287        </td>\n",
       "        </tr>\n",
       "        <tr>\n",
       "            <td>8   </td> <td>0.272334        </td>\n",
       "        </tr>\n",
       "        <tr>\n",
       "            <td>9   </td> <td>0.313195        </td>\n",
       "        </tr>\n",
       "        <tr>\n",
       "            <td>10  </td> <td>0.23361         </td>\n",
       "        </tr>\n",
       "    </tbody>\n",
       "</table>\n",
       "<p>... (74 rows omitted)</p>"
      ],
      "text/plain": [
       "id   | clustering_coeff\n",
       "1    | 0.46781\n",
       "2    | 0.327214\n",
       "3    | 0.430558\n",
       "4    | 0.221537\n",
       "5    | 0.294993\n",
       "6    | 0.327537\n",
       "7    | 0.218287\n",
       "8    | 0.272334\n",
       "9    | 0.313195\n",
       "10   | 0.23361\n",
       "... (74 rows omitted)"
      ]
     },
     "execution_count": 26,
     "metadata": {},
     "output_type": "execute_result"
    }
   ],
   "source": [
    "#SOLUTION\n",
    "\n",
    "cc_ah = make_array()\n",
    "\n",
    "for g in add_health_networks:\n",
    "    cc_ah = np.append(cc_ah, get_average_cc(g))\n",
    "\n",
    "add_health_df = Table().with_columns([\n",
    "     'id', np.arange(1, number_add_health_networks+1),\n",
    "     'clustering_coeff', cc_ah\n",
    "    ])\n",
    "\n",
    "add_health_df"
   ]
  },
  {
   "cell_type": "code",
   "execution_count": 27,
   "metadata": {
    "collapsed": false
   },
   "outputs": [
    {
     "name": "stdout",
     "output_type": "stream",
     "text": [
      "~~~~~~~~~~~~~~~~~~~~~~~~~~~~~~~~~~~~~~~~~~~~~~~~~~~~~~~~~~~~~~~~~~~~~\n",
      "Running tests\n",
      "\n",
      "---------------------------------------------------------------------\n",
      "Test summary\n",
      "    Passed: 1\n",
      "    Failed: 0\n",
      "[ooooooooook] 100.0% passed\n",
      "\n"
     ]
    }
   ],
   "source": [
    "_ = hw03.grade('q6')"
   ]
  },
  {
   "cell_type": "markdown",
   "metadata": {},
   "source": [
    "**Question** Make a histogram that shows the distribution of the clustering coefficient for the Add Health communities (don't include `id`)."
   ]
  },
  {
   "cell_type": "code",
   "execution_count": null,
   "metadata": {
    "collapsed": true
   },
   "outputs": [],
   "source": [
    "# Write your code here"
   ]
  },
  {
   "cell_type": "code",
   "execution_count": 28,
   "metadata": {
    "collapsed": false,
    "scrolled": true
   },
   "outputs": [
    {
     "data": {
      "image/png": "[encoded data removed]",
      "text/plain": [
       "<Figure size 432x288 with 1 Axes>"
      ]
     },
     "metadata": {},
     "output_type": "display_data"
    }
   ],
   "source": [
    "#SOLUTION\n",
    "add_health_df.hist('clustering_coeff' )"
   ]
  },
  {
   "cell_type": "markdown",
   "metadata": {},
   "source": [
    "# Hand-writing questions"
   ]
  },
  {
   "cell_type": "markdown",
   "metadata": {},
   "source": [
    "Consider the network shown in Figure below: there is an edge between each pair of nodes, with five of the edges corresponding to positive relationships, and the other five of the edges corresponding to negative relationships.\n",
    "<img src=\"5_18.png\" width=\"240\" height=\"160\" align=\"center\"/>\n",
    "<br>\n",
    "Each edge in this network participates in three triangles: one formed by each of the additional nodes who is not already an endpoint of the edge. (For example, the A-B edge participates in a triangle on A, B, and C, a triangle on A, B, and D, and a\n",
    "triangle on A, B, and E. We can list triangles for the other edges in a similar way.) "
   ]
  },
  {
   "cell_type": "markdown",
   "metadata": {},
   "source": [
    "** Question 1 ** For each edge, how many of the triangles it participates in are balanced, and how many are unbalanced? Please list in the following box.\n",
    "\n",
    "(Notice that because of the symmetry of the network, the answer will be the same for each positive edge, and also for each negative edge; so it is enough to consider this for one of the positive edges and one of the negative edges.)"
   ]
  },
  {
   "cell_type": "markdown",
   "metadata": {},
   "source": [
    "** Example **\n",
    "Edge (AB) participates in three triangles: (AB,BC,AC) is unbalanced, (AB,AD,BD) is unbalanced, (AB,BE,AE) is balanced <br>"
   ]
  },
  {
   "cell_type": "markdown",
   "metadata": {},
   "source": [
    "<div class='response'>\n",
    "[Answer here]\n",
    "</div>"
   ]
  },
  {
   "cell_type": "markdown",
   "metadata": {},
   "source": [
    "**Solution:**\n",
    "\n",
    "For each of the triads either all edges should be positive or only one edge sould be positive <br>\n",
    "1. Edge (AB) participates in three triangles: (AB,BC,AC) is unbalanced, (AB,AD,BD) is unbalanced, (AB,BE,AE) is balanced <br>\n",
    "2. Edge (AC) participates in three triangles: (AC,BC,AB) is unbalanced, (AC,AD,DC) is balanced, (AC,AE,CE) is unbalanced <br>\n",
    "3. Edge (AD) participates in three triangles: (AD,AB,BD) is unbalanced, (AD,AC,CD) is balanced, (AD,AE,DE) is balanced <br>\n",
    "4. Edge (AE) participates in three triangles: (AE,AD,DE) is balanced, (AE,AB,BE) is balanced, (AE, AC, CD) is unbalanced <br>\n",
    "5. Edge (BD) participates in three triangles: (AB,BD,AD) is unbalanced, (BD,BC,CD) is balanced, (BD,DE,BE) is unbalanced <br>\n",
    "6. Edge (DE) participates in three triangles: (BD,DE,BE) is unbalanced, (DE,AD,AE) is balanced, (DE,CE,DC) is unbalanced <br>\n",
    "7. Edge (BC) participates in three triangles: (BC,BD,CD) is balanced, (BC,AB,AC) is unbalanced, (BC,BE,CE) is balanced <br>\n",
    "8. Edge (BE) participates in three triangles: (BE,BC,CE) is balanced, (BE,AE, AB) is balanced, (BE,BD, DE) is unbalanced <br>\n",
    "9. Edge (CE) participates in three triangles: (BC,BE,CE) is balanced, (CE, AC, AE) is unbalanced, (CD,DE,CE) is unbalanced <br>\n",
    "10. Edge (CD) participates in three triangles: (CD,CE,DE)  is unbalanced, (CD,BD,BC) is balanced, (AC, AD, CD) is balanced <br>"
   ]
  },
  {
   "cell_type": "markdown",
   "metadata": {},
   "source": [
    "** Question 2 ** In the social network depicted in the following figure, with each edge labeled as either a strong or weak tie, which nodes satisfy the Strong Triadic Closure Property, and which do not? Provide an explanation for your answer.\n",
    "\n",
    "<img src=\"3_22.png\" width=\"360\" height=\"240\" align=\"center\"/>\n",
    "<br>"
   ]
  },
  {
   "cell_type": "markdown",
   "metadata": {},
   "source": [
    "<div class='response'>\n",
    "[Answer here]\n",
    "</div>"
   ]
  },
  {
   "cell_type": "markdown",
   "metadata": {},
   "source": [
    "** SOLUTION **\n",
    "C, E\n",
    "\n",
    "A node violates the strong triadic closure property if it has strong ties to two other nodes but those other nodes don't have a tie between them. Based on this property, we see that node C violates the triadic closure property as it has strong ties with B and E but B and E don't have a tie between them. Similarly, E has got strong ties with C and D but C and D don't have a tie between them so E violates the strong triadic closure property. Other nodes satisfy the strong triadic closure property."
   ]
  },
  {
   "cell_type": "markdown",
   "metadata": {},
   "source": [
    "### Rerun the tests and submit your lab"
   ]
  },
  {
   "cell_type": "code",
   "execution_count": null,
   "metadata": {
    "collapsed": true
   },
   "outputs": [],
   "source": [
    "import os\n",
    "print(\"Running all tests...\")\n",
    "_ = [hw03.grade(q[:-3]) for q in os.listdir(\"tests\") if q.startswith('q')]\n",
    "print(\"Finished running all tests.\")"
   ]
  },
  {
   "cell_type": "markdown",
   "metadata": {
    "collapsed": true
   },
   "source": [
    "In order to submit your assignment, run the next cell.\n",
    "\n",
    "You can submit as many times as you want (up to the deadline)."
   ]
  },
  {
   "cell_type": "code",
   "execution_count": null,
   "metadata": {
    "collapsed": true
   },
   "outputs": [],
   "source": [
    "_ = hw03.submit()"
   ]
  }
 ],
 "metadata": {
  "anaconda-cloud": {},
  "kernelspec": {
   "display_name": "Python 3",
   "language": "python",
   "name": "python3"
  },
  "language_info": {
   "codemirror_mode": {
    "name": "ipython",
    "version": 3
   },
   "file_extension": ".py",
   "mimetype": "text/x-python",
   "name": "python",
   "nbconvert_exporter": "python",
   "pygments_lexer": "ipython3",
   "version": "3.6.0"
  }
 },
 "nbformat": 4,
 "nbformat_minor": 1
}
